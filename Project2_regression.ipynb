{
 "cells": [
  {
   "cell_type": "markdown",
   "metadata": {},
   "source": [
    "### <font color='red'> Project 2 : Buzz Prediction on Twitter\n",
    "\n",
    "Project Description:\n",
    "- There are two different datasets for Regression and Classification tasks. Right-most column in both the datasets is a dependent variable i.e. buzz.\n",
    "- Data description files are also provided for both the datasets.\n",
    "- Deciding which dataset is for which task is part of the project.\n",
    "- Read data into Jupyter notebook, use pandas to import data into a data frame.\n",
    "- Preprocess data: Explore data, check for missing data and apply data scaling. Justify the type of scaling used.\n",
    "\n",
    "Regression Task:\n",
    "- Apply all the regression models you've learned so far. If your model has a scaling parameter(s) use Grid Search to find the best scaling parameter. Use plots and graphs to help you get a better glimpse of the results. \n",
    "- Then use cross-validation to find average training and testing score. \n",
    "- Your submission should have at least the following regression models: KNN regressor, linear regression, Ridge, Lasso, polynomial regression, SVM both simple and with kernels. \n",
    "- Finally, find the best regressor for this dataset and train your model on the entire dataset using the best parameters and predict buzz for the test_set.\n",
    "\n",
    "Classification Task:\n",
    "- Decide about a good evaluation strategy and justify your choice.\n",
    "- Find best parameters for the following classification models: KNN classification, Logistic Regression, Linear Support Vector Machine, Kernelized Support Vector Machine, Decision Tree. \n",
    "- Which model gives the best results?\n",
    "\n",
    "Deliverables:\n",
    "- Submit IPython notebook. Use markdown to provide inline comments for this project.\n",
    "- Rename notebook with your group number and submit only one notebook. Before submitting, make sure everything runs as expected. To check that, restart the kernel (in the menubar, select Kernel > Restart) and then run all cells (in the menubar, select Cell > Run All).\n",
    "- Visualization encouraged.\n",
    "\n",
    "Questions regarding the project:\n",
    "- We have created a discussion board under Projects folder on e-learning. Create threads over there and post your queries related to project there.\n",
    "- There is a high possibility that your classmate has also faced the same problem and knows the solution. So this is an effort to encourage collaborative learning, reducing mails for frequently asked queries and also making all the information available to everyone.\n",
    "- Please check existing threads for your query before creating a new one. It goes without saying that do not share your code or complete solutions there.\n",
    "- We will also answer queries there. We will not be answering any project related queries through the mail."
   ]
  },
  {
   "cell_type": "markdown",
   "metadata": {},
   "source": [
    "# regression task"
   ]
  },
  {
   "cell_type": "markdown",
   "metadata": {},
   "source": [
    "# 1. read data into dataframe"
   ]
  },
  {
   "cell_type": "code",
   "execution_count": 1,
   "metadata": {},
   "outputs": [],
   "source": [
    "import pandas as pd\n",
    "import numpy as np\n",
    "from pandas import DataFrame\n",
    "import matplotlib.pyplot as plt\n",
    "import seaborn as sns\n",
    "\n",
    "import warnings\n",
    "warnings.filterwarnings('ignore')\n",
    "%matplotlib inline"
   ]
  },
  {
   "cell_type": "code",
   "execution_count": 2,
   "metadata": {},
   "outputs": [],
   "source": [
    "feature_names = []\n",
    "feature_list = ['NCD_', 'AI_','AS(NA)_','BL_','NAC_','AS(NAC)_','CS_','AT_','NA_', 'ADL_', 'NAD_']\n",
    "\n",
    "for i in feature_list:\n",
    "    for j in range(0,7):\n",
    "        feature_names.append(i+str(j))\n",
    "feature_names.append('BUZZ')"
   ]
  },
  {
   "cell_type": "code",
   "execution_count": 3,
   "metadata": {},
   "outputs": [],
   "source": [
    "df = pd.read_csv('Twitter.csv',header = None,names=feature_names,nrows=3000)"
   ]
  },
  {
   "cell_type": "markdown",
   "metadata": {},
   "source": [
    "use part of the dataset to compute faster "
   ]
  },
  {
   "cell_type": "code",
   "execution_count": 4,
   "metadata": {},
   "outputs": [
    {
     "data": {
      "text/html": [
       "<div>\n",
       "<style scoped>\n",
       "    .dataframe tbody tr th:only-of-type {\n",
       "        vertical-align: middle;\n",
       "    }\n",
       "\n",
       "    .dataframe tbody tr th {\n",
       "        vertical-align: top;\n",
       "    }\n",
       "\n",
       "    .dataframe thead th {\n",
       "        text-align: right;\n",
       "    }\n",
       "</style>\n",
       "<table border=\"1\" class=\"dataframe\">\n",
       "  <thead>\n",
       "    <tr style=\"text-align: right;\">\n",
       "      <th></th>\n",
       "      <th>NCD_0</th>\n",
       "      <th>NCD_1</th>\n",
       "      <th>NCD_2</th>\n",
       "      <th>NCD_3</th>\n",
       "      <th>NCD_4</th>\n",
       "      <th>NCD_5</th>\n",
       "      <th>NCD_6</th>\n",
       "      <th>AI_0</th>\n",
       "      <th>AI_1</th>\n",
       "      <th>AI_2</th>\n",
       "      <th>...</th>\n",
       "      <th>ADL_5</th>\n",
       "      <th>ADL_6</th>\n",
       "      <th>NAD_0</th>\n",
       "      <th>NAD_1</th>\n",
       "      <th>NAD_2</th>\n",
       "      <th>NAD_3</th>\n",
       "      <th>NAD_4</th>\n",
       "      <th>NAD_5</th>\n",
       "      <th>NAD_6</th>\n",
       "      <th>BUZZ</th>\n",
       "    </tr>\n",
       "  </thead>\n",
       "  <tbody>\n",
       "    <tr>\n",
       "      <th>0</th>\n",
       "      <td>0</td>\n",
       "      <td>2</td>\n",
       "      <td>0</td>\n",
       "      <td>0</td>\n",
       "      <td>1</td>\n",
       "      <td>1</td>\n",
       "      <td>1</td>\n",
       "      <td>0</td>\n",
       "      <td>1</td>\n",
       "      <td>0</td>\n",
       "      <td>...</td>\n",
       "      <td>1.0</td>\n",
       "      <td>1.0</td>\n",
       "      <td>0</td>\n",
       "      <td>2</td>\n",
       "      <td>0</td>\n",
       "      <td>0</td>\n",
       "      <td>1</td>\n",
       "      <td>1</td>\n",
       "      <td>1</td>\n",
       "      <td>0.0</td>\n",
       "    </tr>\n",
       "    <tr>\n",
       "      <th>1</th>\n",
       "      <td>2</td>\n",
       "      <td>1</td>\n",
       "      <td>0</td>\n",
       "      <td>0</td>\n",
       "      <td>0</td>\n",
       "      <td>0</td>\n",
       "      <td>4</td>\n",
       "      <td>2</td>\n",
       "      <td>1</td>\n",
       "      <td>0</td>\n",
       "      <td>...</td>\n",
       "      <td>0.0</td>\n",
       "      <td>1.0</td>\n",
       "      <td>2</td>\n",
       "      <td>1</td>\n",
       "      <td>0</td>\n",
       "      <td>0</td>\n",
       "      <td>0</td>\n",
       "      <td>0</td>\n",
       "      <td>4</td>\n",
       "      <td>0.5</td>\n",
       "    </tr>\n",
       "    <tr>\n",
       "      <th>2</th>\n",
       "      <td>1</td>\n",
       "      <td>0</td>\n",
       "      <td>0</td>\n",
       "      <td>0</td>\n",
       "      <td>0</td>\n",
       "      <td>4</td>\n",
       "      <td>1</td>\n",
       "      <td>1</td>\n",
       "      <td>0</td>\n",
       "      <td>0</td>\n",
       "      <td>...</td>\n",
       "      <td>1.0</td>\n",
       "      <td>1.0</td>\n",
       "      <td>1</td>\n",
       "      <td>0</td>\n",
       "      <td>0</td>\n",
       "      <td>0</td>\n",
       "      <td>0</td>\n",
       "      <td>4</td>\n",
       "      <td>1</td>\n",
       "      <td>0.0</td>\n",
       "    </tr>\n",
       "    <tr>\n",
       "      <th>3</th>\n",
       "      <td>1</td>\n",
       "      <td>0</td>\n",
       "      <td>0</td>\n",
       "      <td>1</td>\n",
       "      <td>0</td>\n",
       "      <td>0</td>\n",
       "      <td>1</td>\n",
       "      <td>1</td>\n",
       "      <td>0</td>\n",
       "      <td>0</td>\n",
       "      <td>...</td>\n",
       "      <td>0.0</td>\n",
       "      <td>1.0</td>\n",
       "      <td>1</td>\n",
       "      <td>0</td>\n",
       "      <td>0</td>\n",
       "      <td>1</td>\n",
       "      <td>0</td>\n",
       "      <td>0</td>\n",
       "      <td>1</td>\n",
       "      <td>2.5</td>\n",
       "    </tr>\n",
       "    <tr>\n",
       "      <th>4</th>\n",
       "      <td>0</td>\n",
       "      <td>1</td>\n",
       "      <td>0</td>\n",
       "      <td>0</td>\n",
       "      <td>1</td>\n",
       "      <td>2</td>\n",
       "      <td>3</td>\n",
       "      <td>0</td>\n",
       "      <td>1</td>\n",
       "      <td>0</td>\n",
       "      <td>...</td>\n",
       "      <td>1.0</td>\n",
       "      <td>1.0</td>\n",
       "      <td>0</td>\n",
       "      <td>1</td>\n",
       "      <td>0</td>\n",
       "      <td>0</td>\n",
       "      <td>1</td>\n",
       "      <td>2</td>\n",
       "      <td>3</td>\n",
       "      <td>0.5</td>\n",
       "    </tr>\n",
       "  </tbody>\n",
       "</table>\n",
       "<p>5 rows × 78 columns</p>\n",
       "</div>"
      ],
      "text/plain": [
       "   NCD_0  NCD_1  NCD_2  NCD_3  NCD_4  NCD_5  NCD_6  AI_0  AI_1  AI_2  ...   \\\n",
       "0      0      2      0      0      1      1      1     0     1     0  ...    \n",
       "1      2      1      0      0      0      0      4     2     1     0  ...    \n",
       "2      1      0      0      0      0      4      1     1     0     0  ...    \n",
       "3      1      0      0      1      0      0      1     1     0     0  ...    \n",
       "4      0      1      0      0      1      2      3     0     1     0  ...    \n",
       "\n",
       "   ADL_5  ADL_6  NAD_0  NAD_1  NAD_2  NAD_3  NAD_4  NAD_5  NAD_6  BUZZ  \n",
       "0    1.0    1.0      0      2      0      0      1      1      1   0.0  \n",
       "1    0.0    1.0      2      1      0      0      0      0      4   0.5  \n",
       "2    1.0    1.0      1      0      0      0      0      4      1   0.0  \n",
       "3    0.0    1.0      1      0      0      1      0      0      1   2.5  \n",
       "4    1.0    1.0      0      1      0      0      1      2      3   0.5  \n",
       "\n",
       "[5 rows x 78 columns]"
      ]
     },
     "execution_count": 4,
     "metadata": {},
     "output_type": "execute_result"
    }
   ],
   "source": [
    "df.head()"
   ]
  },
  {
   "cell_type": "markdown",
   "metadata": {},
   "source": [
    "# 2. exploratory analysis"
   ]
  },
  {
   "cell_type": "code",
   "execution_count": 5,
   "metadata": {},
   "outputs": [
    {
     "data": {
      "text/html": [
       "<div>\n",
       "<style scoped>\n",
       "    .dataframe tbody tr th:only-of-type {\n",
       "        vertical-align: middle;\n",
       "    }\n",
       "\n",
       "    .dataframe tbody tr th {\n",
       "        vertical-align: top;\n",
       "    }\n",
       "\n",
       "    .dataframe thead th {\n",
       "        text-align: right;\n",
       "    }\n",
       "</style>\n",
       "<table border=\"1\" class=\"dataframe\">\n",
       "  <thead>\n",
       "    <tr style=\"text-align: right;\">\n",
       "      <th></th>\n",
       "      <th>NCD_0</th>\n",
       "      <th>NCD_1</th>\n",
       "      <th>NCD_2</th>\n",
       "      <th>NCD_3</th>\n",
       "      <th>NCD_4</th>\n",
       "      <th>NCD_5</th>\n",
       "      <th>NCD_6</th>\n",
       "      <th>AI_0</th>\n",
       "      <th>AI_1</th>\n",
       "      <th>AI_2</th>\n",
       "      <th>...</th>\n",
       "      <th>ADL_5</th>\n",
       "      <th>ADL_6</th>\n",
       "      <th>NAD_0</th>\n",
       "      <th>NAD_1</th>\n",
       "      <th>NAD_2</th>\n",
       "      <th>NAD_3</th>\n",
       "      <th>NAD_4</th>\n",
       "      <th>NAD_5</th>\n",
       "      <th>NAD_6</th>\n",
       "      <th>BUZZ</th>\n",
       "    </tr>\n",
       "  </thead>\n",
       "  <tbody>\n",
       "    <tr>\n",
       "      <th>0</th>\n",
       "      <td>0</td>\n",
       "      <td>2</td>\n",
       "      <td>0</td>\n",
       "      <td>0</td>\n",
       "      <td>1</td>\n",
       "      <td>1</td>\n",
       "      <td>1</td>\n",
       "      <td>0</td>\n",
       "      <td>1</td>\n",
       "      <td>0</td>\n",
       "      <td>...</td>\n",
       "      <td>1.0</td>\n",
       "      <td>1.0</td>\n",
       "      <td>0</td>\n",
       "      <td>2</td>\n",
       "      <td>0</td>\n",
       "      <td>0</td>\n",
       "      <td>1</td>\n",
       "      <td>1</td>\n",
       "      <td>1</td>\n",
       "      <td>0.0</td>\n",
       "    </tr>\n",
       "    <tr>\n",
       "      <th>1</th>\n",
       "      <td>2</td>\n",
       "      <td>1</td>\n",
       "      <td>0</td>\n",
       "      <td>0</td>\n",
       "      <td>0</td>\n",
       "      <td>0</td>\n",
       "      <td>4</td>\n",
       "      <td>2</td>\n",
       "      <td>1</td>\n",
       "      <td>0</td>\n",
       "      <td>...</td>\n",
       "      <td>0.0</td>\n",
       "      <td>1.0</td>\n",
       "      <td>2</td>\n",
       "      <td>1</td>\n",
       "      <td>0</td>\n",
       "      <td>0</td>\n",
       "      <td>0</td>\n",
       "      <td>0</td>\n",
       "      <td>4</td>\n",
       "      <td>0.5</td>\n",
       "    </tr>\n",
       "    <tr>\n",
       "      <th>2</th>\n",
       "      <td>1</td>\n",
       "      <td>0</td>\n",
       "      <td>0</td>\n",
       "      <td>0</td>\n",
       "      <td>0</td>\n",
       "      <td>4</td>\n",
       "      <td>1</td>\n",
       "      <td>1</td>\n",
       "      <td>0</td>\n",
       "      <td>0</td>\n",
       "      <td>...</td>\n",
       "      <td>1.0</td>\n",
       "      <td>1.0</td>\n",
       "      <td>1</td>\n",
       "      <td>0</td>\n",
       "      <td>0</td>\n",
       "      <td>0</td>\n",
       "      <td>0</td>\n",
       "      <td>4</td>\n",
       "      <td>1</td>\n",
       "      <td>0.0</td>\n",
       "    </tr>\n",
       "    <tr>\n",
       "      <th>3</th>\n",
       "      <td>1</td>\n",
       "      <td>0</td>\n",
       "      <td>0</td>\n",
       "      <td>1</td>\n",
       "      <td>0</td>\n",
       "      <td>0</td>\n",
       "      <td>1</td>\n",
       "      <td>1</td>\n",
       "      <td>0</td>\n",
       "      <td>0</td>\n",
       "      <td>...</td>\n",
       "      <td>0.0</td>\n",
       "      <td>1.0</td>\n",
       "      <td>1</td>\n",
       "      <td>0</td>\n",
       "      <td>0</td>\n",
       "      <td>1</td>\n",
       "      <td>0</td>\n",
       "      <td>0</td>\n",
       "      <td>1</td>\n",
       "      <td>2.5</td>\n",
       "    </tr>\n",
       "    <tr>\n",
       "      <th>4</th>\n",
       "      <td>0</td>\n",
       "      <td>1</td>\n",
       "      <td>0</td>\n",
       "      <td>0</td>\n",
       "      <td>1</td>\n",
       "      <td>2</td>\n",
       "      <td>3</td>\n",
       "      <td>0</td>\n",
       "      <td>1</td>\n",
       "      <td>0</td>\n",
       "      <td>...</td>\n",
       "      <td>1.0</td>\n",
       "      <td>1.0</td>\n",
       "      <td>0</td>\n",
       "      <td>1</td>\n",
       "      <td>0</td>\n",
       "      <td>0</td>\n",
       "      <td>1</td>\n",
       "      <td>2</td>\n",
       "      <td>3</td>\n",
       "      <td>0.5</td>\n",
       "    </tr>\n",
       "  </tbody>\n",
       "</table>\n",
       "<p>5 rows × 78 columns</p>\n",
       "</div>"
      ],
      "text/plain": [
       "   NCD_0  NCD_1  NCD_2  NCD_3  NCD_4  NCD_5  NCD_6  AI_0  AI_1  AI_2  ...   \\\n",
       "0      0      2      0      0      1      1      1     0     1     0  ...    \n",
       "1      2      1      0      0      0      0      4     2     1     0  ...    \n",
       "2      1      0      0      0      0      4      1     1     0     0  ...    \n",
       "3      1      0      0      1      0      0      1     1     0     0  ...    \n",
       "4      0      1      0      0      1      2      3     0     1     0  ...    \n",
       "\n",
       "   ADL_5  ADL_6  NAD_0  NAD_1  NAD_2  NAD_3  NAD_4  NAD_5  NAD_6  BUZZ  \n",
       "0    1.0    1.0      0      2      0      0      1      1      1   0.0  \n",
       "1    0.0    1.0      2      1      0      0      0      0      4   0.5  \n",
       "2    1.0    1.0      1      0      0      0      0      4      1   0.0  \n",
       "3    0.0    1.0      1      0      0      1      0      0      1   2.5  \n",
       "4    1.0    1.0      0      1      0      0      1      2      3   0.5  \n",
       "\n",
       "[5 rows x 78 columns]"
      ]
     },
     "execution_count": 5,
     "metadata": {},
     "output_type": "execute_result"
    }
   ],
   "source": [
    "df.head()"
   ]
  },
  {
   "cell_type": "code",
   "execution_count": 6,
   "metadata": {},
   "outputs": [
    {
     "data": {
      "text/html": [
       "<div>\n",
       "<style scoped>\n",
       "    .dataframe tbody tr th:only-of-type {\n",
       "        vertical-align: middle;\n",
       "    }\n",
       "\n",
       "    .dataframe tbody tr th {\n",
       "        vertical-align: top;\n",
       "    }\n",
       "\n",
       "    .dataframe thead th {\n",
       "        text-align: right;\n",
       "    }\n",
       "</style>\n",
       "<table border=\"1\" class=\"dataframe\">\n",
       "  <thead>\n",
       "    <tr style=\"text-align: right;\">\n",
       "      <th></th>\n",
       "      <th>NCD_0</th>\n",
       "      <th>NCD_1</th>\n",
       "      <th>NCD_2</th>\n",
       "      <th>NCD_3</th>\n",
       "      <th>NCD_4</th>\n",
       "      <th>NCD_5</th>\n",
       "      <th>NCD_6</th>\n",
       "      <th>AI_0</th>\n",
       "      <th>AI_1</th>\n",
       "      <th>AI_2</th>\n",
       "      <th>...</th>\n",
       "      <th>ADL_5</th>\n",
       "      <th>ADL_6</th>\n",
       "      <th>NAD_0</th>\n",
       "      <th>NAD_1</th>\n",
       "      <th>NAD_2</th>\n",
       "      <th>NAD_3</th>\n",
       "      <th>NAD_4</th>\n",
       "      <th>NAD_5</th>\n",
       "      <th>NAD_6</th>\n",
       "      <th>BUZZ</th>\n",
       "    </tr>\n",
       "  </thead>\n",
       "  <tbody>\n",
       "    <tr>\n",
       "      <th>count</th>\n",
       "      <td>3000.000000</td>\n",
       "      <td>3000.000000</td>\n",
       "      <td>3000.000000</td>\n",
       "      <td>3000.000000</td>\n",
       "      <td>3000.000000</td>\n",
       "      <td>3000.000000</td>\n",
       "      <td>3000.000000</td>\n",
       "      <td>3000.000000</td>\n",
       "      <td>3000.000000</td>\n",
       "      <td>3000.000000</td>\n",
       "      <td>...</td>\n",
       "      <td>3000.000000</td>\n",
       "      <td>3000.000000</td>\n",
       "      <td>3000.000000</td>\n",
       "      <td>3000.000000</td>\n",
       "      <td>3000.000000</td>\n",
       "      <td>3000.000000</td>\n",
       "      <td>3000.000000</td>\n",
       "      <td>3000.000000</td>\n",
       "      <td>3000.000000</td>\n",
       "      <td>3000.000000</td>\n",
       "    </tr>\n",
       "    <tr>\n",
       "      <th>mean</th>\n",
       "      <td>77.940000</td>\n",
       "      <td>78.043333</td>\n",
       "      <td>91.396333</td>\n",
       "      <td>104.138000</td>\n",
       "      <td>117.630333</td>\n",
       "      <td>131.566333</td>\n",
       "      <td>133.693333</td>\n",
       "      <td>46.404667</td>\n",
       "      <td>46.509000</td>\n",
       "      <td>55.550667</td>\n",
       "      <td>...</td>\n",
       "      <td>1.066476</td>\n",
       "      <td>1.081847</td>\n",
       "      <td>78.119333</td>\n",
       "      <td>78.220333</td>\n",
       "      <td>91.581667</td>\n",
       "      <td>104.343667</td>\n",
       "      <td>117.835667</td>\n",
       "      <td>131.785000</td>\n",
       "      <td>133.926667</td>\n",
       "      <td>114.572667</td>\n",
       "    </tr>\n",
       "    <tr>\n",
       "      <th>std</th>\n",
       "      <td>166.043201</td>\n",
       "      <td>174.349504</td>\n",
       "      <td>207.549122</td>\n",
       "      <td>229.158209</td>\n",
       "      <td>255.684274</td>\n",
       "      <td>280.150377</td>\n",
       "      <td>288.188048</td>\n",
       "      <td>108.548649</td>\n",
       "      <td>113.322298</td>\n",
       "      <td>140.786521</td>\n",
       "      <td>...</td>\n",
       "      <td>0.579288</td>\n",
       "      <td>0.666155</td>\n",
       "      <td>166.290057</td>\n",
       "      <td>174.583173</td>\n",
       "      <td>207.793953</td>\n",
       "      <td>229.405209</td>\n",
       "      <td>255.921824</td>\n",
       "      <td>280.385353</td>\n",
       "      <td>288.403520</td>\n",
       "      <td>258.347665</td>\n",
       "    </tr>\n",
       "    <tr>\n",
       "      <th>min</th>\n",
       "      <td>0.000000</td>\n",
       "      <td>0.000000</td>\n",
       "      <td>0.000000</td>\n",
       "      <td>0.000000</td>\n",
       "      <td>0.000000</td>\n",
       "      <td>0.000000</td>\n",
       "      <td>0.000000</td>\n",
       "      <td>0.000000</td>\n",
       "      <td>0.000000</td>\n",
       "      <td>0.000000</td>\n",
       "      <td>...</td>\n",
       "      <td>0.000000</td>\n",
       "      <td>0.000000</td>\n",
       "      <td>0.000000</td>\n",
       "      <td>0.000000</td>\n",
       "      <td>0.000000</td>\n",
       "      <td>0.000000</td>\n",
       "      <td>0.000000</td>\n",
       "      <td>0.000000</td>\n",
       "      <td>0.000000</td>\n",
       "      <td>0.000000</td>\n",
       "    </tr>\n",
       "    <tr>\n",
       "      <th>25%</th>\n",
       "      <td>4.000000</td>\n",
       "      <td>4.000000</td>\n",
       "      <td>5.000000</td>\n",
       "      <td>6.000000</td>\n",
       "      <td>6.000000</td>\n",
       "      <td>8.000000</td>\n",
       "      <td>8.000000</td>\n",
       "      <td>3.000000</td>\n",
       "      <td>2.000000</td>\n",
       "      <td>3.000000</td>\n",
       "      <td>...</td>\n",
       "      <td>1.000000</td>\n",
       "      <td>1.000000</td>\n",
       "      <td>4.000000</td>\n",
       "      <td>4.000000</td>\n",
       "      <td>5.000000</td>\n",
       "      <td>6.000000</td>\n",
       "      <td>6.000000</td>\n",
       "      <td>8.000000</td>\n",
       "      <td>8.000000</td>\n",
       "      <td>7.000000</td>\n",
       "    </tr>\n",
       "    <tr>\n",
       "      <th>50%</th>\n",
       "      <td>24.000000</td>\n",
       "      <td>23.000000</td>\n",
       "      <td>26.500000</td>\n",
       "      <td>30.000000</td>\n",
       "      <td>33.000000</td>\n",
       "      <td>40.000000</td>\n",
       "      <td>38.000000</td>\n",
       "      <td>14.000000</td>\n",
       "      <td>13.000000</td>\n",
       "      <td>15.000000</td>\n",
       "      <td>...</td>\n",
       "      <td>1.000000</td>\n",
       "      <td>1.000000</td>\n",
       "      <td>24.000000</td>\n",
       "      <td>23.000000</td>\n",
       "      <td>27.000000</td>\n",
       "      <td>30.000000</td>\n",
       "      <td>34.000000</td>\n",
       "      <td>40.000000</td>\n",
       "      <td>38.000000</td>\n",
       "      <td>32.000000</td>\n",
       "    </tr>\n",
       "    <tr>\n",
       "      <th>75%</th>\n",
       "      <td>78.000000</td>\n",
       "      <td>74.000000</td>\n",
       "      <td>85.000000</td>\n",
       "      <td>95.000000</td>\n",
       "      <td>106.000000</td>\n",
       "      <td>116.000000</td>\n",
       "      <td>115.000000</td>\n",
       "      <td>46.000000</td>\n",
       "      <td>44.000000</td>\n",
       "      <td>50.250000</td>\n",
       "      <td>...</td>\n",
       "      <td>1.062811</td>\n",
       "      <td>1.062500</td>\n",
       "      <td>78.000000</td>\n",
       "      <td>74.000000</td>\n",
       "      <td>85.000000</td>\n",
       "      <td>95.000000</td>\n",
       "      <td>106.250000</td>\n",
       "      <td>116.000000</td>\n",
       "      <td>115.000000</td>\n",
       "      <td>95.500000</td>\n",
       "    </tr>\n",
       "    <tr>\n",
       "      <th>max</th>\n",
       "      <td>2066.000000</td>\n",
       "      <td>2054.000000</td>\n",
       "      <td>3601.000000</td>\n",
       "      <td>2613.000000</td>\n",
       "      <td>3601.000000</td>\n",
       "      <td>3601.000000</td>\n",
       "      <td>3601.000000</td>\n",
       "      <td>1609.000000</td>\n",
       "      <td>1658.000000</td>\n",
       "      <td>2836.000000</td>\n",
       "      <td>...</td>\n",
       "      <td>19.000000</td>\n",
       "      <td>19.000000</td>\n",
       "      <td>2069.000000</td>\n",
       "      <td>2061.000000</td>\n",
       "      <td>3601.000000</td>\n",
       "      <td>2613.000000</td>\n",
       "      <td>3601.000000</td>\n",
       "      <td>3601.000000</td>\n",
       "      <td>3601.000000</td>\n",
       "      <td>3107.000000</td>\n",
       "    </tr>\n",
       "  </tbody>\n",
       "</table>\n",
       "<p>8 rows × 78 columns</p>\n",
       "</div>"
      ],
      "text/plain": [
       "             NCD_0        NCD_1        NCD_2        NCD_3        NCD_4  \\\n",
       "count  3000.000000  3000.000000  3000.000000  3000.000000  3000.000000   \n",
       "mean     77.940000    78.043333    91.396333   104.138000   117.630333   \n",
       "std     166.043201   174.349504   207.549122   229.158209   255.684274   \n",
       "min       0.000000     0.000000     0.000000     0.000000     0.000000   \n",
       "25%       4.000000     4.000000     5.000000     6.000000     6.000000   \n",
       "50%      24.000000    23.000000    26.500000    30.000000    33.000000   \n",
       "75%      78.000000    74.000000    85.000000    95.000000   106.000000   \n",
       "max    2066.000000  2054.000000  3601.000000  2613.000000  3601.000000   \n",
       "\n",
       "             NCD_5        NCD_6         AI_0         AI_1         AI_2  \\\n",
       "count  3000.000000  3000.000000  3000.000000  3000.000000  3000.000000   \n",
       "mean    131.566333   133.693333    46.404667    46.509000    55.550667   \n",
       "std     280.150377   288.188048   108.548649   113.322298   140.786521   \n",
       "min       0.000000     0.000000     0.000000     0.000000     0.000000   \n",
       "25%       8.000000     8.000000     3.000000     2.000000     3.000000   \n",
       "50%      40.000000    38.000000    14.000000    13.000000    15.000000   \n",
       "75%     116.000000   115.000000    46.000000    44.000000    50.250000   \n",
       "max    3601.000000  3601.000000  1609.000000  1658.000000  2836.000000   \n",
       "\n",
       "          ...             ADL_5        ADL_6        NAD_0        NAD_1  \\\n",
       "count     ...       3000.000000  3000.000000  3000.000000  3000.000000   \n",
       "mean      ...          1.066476     1.081847    78.119333    78.220333   \n",
       "std       ...          0.579288     0.666155   166.290057   174.583173   \n",
       "min       ...          0.000000     0.000000     0.000000     0.000000   \n",
       "25%       ...          1.000000     1.000000     4.000000     4.000000   \n",
       "50%       ...          1.000000     1.000000    24.000000    23.000000   \n",
       "75%       ...          1.062811     1.062500    78.000000    74.000000   \n",
       "max       ...         19.000000    19.000000  2069.000000  2061.000000   \n",
       "\n",
       "             NAD_2        NAD_3        NAD_4        NAD_5        NAD_6  \\\n",
       "count  3000.000000  3000.000000  3000.000000  3000.000000  3000.000000   \n",
       "mean     91.581667   104.343667   117.835667   131.785000   133.926667   \n",
       "std     207.793953   229.405209   255.921824   280.385353   288.403520   \n",
       "min       0.000000     0.000000     0.000000     0.000000     0.000000   \n",
       "25%       5.000000     6.000000     6.000000     8.000000     8.000000   \n",
       "50%      27.000000    30.000000    34.000000    40.000000    38.000000   \n",
       "75%      85.000000    95.000000   106.250000   116.000000   115.000000   \n",
       "max    3601.000000  2613.000000  3601.000000  3601.000000  3601.000000   \n",
       "\n",
       "              BUZZ  \n",
       "count  3000.000000  \n",
       "mean    114.572667  \n",
       "std     258.347665  \n",
       "min       0.000000  \n",
       "25%       7.000000  \n",
       "50%      32.000000  \n",
       "75%      95.500000  \n",
       "max    3107.000000  \n",
       "\n",
       "[8 rows x 78 columns]"
      ]
     },
     "execution_count": 6,
     "metadata": {},
     "output_type": "execute_result"
    }
   ],
   "source": [
    "df.describe()"
   ]
  },
  {
   "cell_type": "code",
   "execution_count": 7,
   "metadata": {},
   "outputs": [
    {
     "name": "stdout",
     "output_type": "stream",
     "text": [
      "<class 'pandas.core.frame.DataFrame'>\n",
      "RangeIndex: 3000 entries, 0 to 2999\n",
      "Data columns (total 78 columns):\n",
      "NCD_0        3000 non-null int64\n",
      "NCD_1        3000 non-null int64\n",
      "NCD_2        3000 non-null int64\n",
      "NCD_3        3000 non-null int64\n",
      "NCD_4        3000 non-null int64\n",
      "NCD_5        3000 non-null int64\n",
      "NCD_6        3000 non-null int64\n",
      "AI_0         3000 non-null int64\n",
      "AI_1         3000 non-null int64\n",
      "AI_2         3000 non-null int64\n",
      "AI_3         3000 non-null int64\n",
      "AI_4         3000 non-null int64\n",
      "AI_5         3000 non-null int64\n",
      "AI_6         3000 non-null int64\n",
      "AS(NA)_0     3000 non-null float64\n",
      "AS(NA)_1     3000 non-null float64\n",
      "AS(NA)_2     3000 non-null float64\n",
      "AS(NA)_3     3000 non-null float64\n",
      "AS(NA)_4     3000 non-null float64\n",
      "AS(NA)_5     3000 non-null float64\n",
      "AS(NA)_6     3000 non-null float64\n",
      "BL_0         3000 non-null float64\n",
      "BL_1         3000 non-null float64\n",
      "BL_2         3000 non-null float64\n",
      "BL_3         3000 non-null float64\n",
      "BL_4         3000 non-null float64\n",
      "BL_5         3000 non-null float64\n",
      "BL_6         3000 non-null float64\n",
      "NAC_0        3000 non-null int64\n",
      "NAC_1        3000 non-null int64\n",
      "NAC_2        3000 non-null int64\n",
      "NAC_3        3000 non-null int64\n",
      "NAC_4        3000 non-null int64\n",
      "NAC_5        3000 non-null int64\n",
      "NAC_6        3000 non-null int64\n",
      "AS(NAC)_0    3000 non-null float64\n",
      "AS(NAC)_1    3000 non-null float64\n",
      "AS(NAC)_2    3000 non-null float64\n",
      "AS(NAC)_3    3000 non-null float64\n",
      "AS(NAC)_4    3000 non-null float64\n",
      "AS(NAC)_5    3000 non-null float64\n",
      "AS(NAC)_6    3000 non-null float64\n",
      "CS_0         3000 non-null float64\n",
      "CS_1         3000 non-null float64\n",
      "CS_2         3000 non-null float64\n",
      "CS_3         3000 non-null float64\n",
      "CS_4         3000 non-null float64\n",
      "CS_5         3000 non-null float64\n",
      "CS_6         3000 non-null float64\n",
      "AT_0         3000 non-null float64\n",
      "AT_1         3000 non-null float64\n",
      "AT_2         3000 non-null float64\n",
      "AT_3         3000 non-null float64\n",
      "AT_4         3000 non-null float64\n",
      "AT_5         3000 non-null float64\n",
      "AT_6         3000 non-null float64\n",
      "NA_0         3000 non-null int64\n",
      "NA_1         3000 non-null int64\n",
      "NA_2         3000 non-null int64\n",
      "NA_3         3000 non-null int64\n",
      "NA_4         3000 non-null int64\n",
      "NA_5         3000 non-null int64\n",
      "NA_6         3000 non-null int64\n",
      "ADL_0        3000 non-null float64\n",
      "ADL_1        3000 non-null float64\n",
      "ADL_2        3000 non-null float64\n",
      "ADL_3        3000 non-null float64\n",
      "ADL_4        3000 non-null float64\n",
      "ADL_5        3000 non-null float64\n",
      "ADL_6        3000 non-null float64\n",
      "NAD_0        3000 non-null int64\n",
      "NAD_1        3000 non-null int64\n",
      "NAD_2        3000 non-null int64\n",
      "NAD_3        3000 non-null int64\n",
      "NAD_4        3000 non-null int64\n",
      "NAD_5        3000 non-null int64\n",
      "NAD_6        3000 non-null int64\n",
      "BUZZ         3000 non-null float64\n",
      "dtypes: float64(43), int64(35)\n",
      "memory usage: 1.8 MB\n"
     ]
    }
   ],
   "source": [
    "df.info()"
   ]
  },
  {
   "cell_type": "code",
   "execution_count": 8,
   "metadata": {},
   "outputs": [
    {
     "data": {
      "text/plain": [
       "(3000, 78)"
      ]
     },
     "execution_count": 8,
     "metadata": {},
     "output_type": "execute_result"
    }
   ],
   "source": [
    "df.shape"
   ]
  },
  {
   "cell_type": "markdown",
   "metadata": {},
   "source": [
    "check missing value"
   ]
  },
  {
   "cell_type": "code",
   "execution_count": 9,
   "metadata": {},
   "outputs": [
    {
     "data": {
      "text/plain": [
       "[0,\n",
       " 0,\n",
       " 0,\n",
       " 0,\n",
       " 0,\n",
       " 0,\n",
       " 0,\n",
       " 0,\n",
       " 0,\n",
       " 0,\n",
       " 0,\n",
       " 0,\n",
       " 0,\n",
       " 0,\n",
       " 0,\n",
       " 0,\n",
       " 0,\n",
       " 0,\n",
       " 0,\n",
       " 0,\n",
       " 0,\n",
       " 0,\n",
       " 0,\n",
       " 0,\n",
       " 0,\n",
       " 0,\n",
       " 0,\n",
       " 0,\n",
       " 0,\n",
       " 0,\n",
       " 0,\n",
       " 0,\n",
       " 0,\n",
       " 0,\n",
       " 0,\n",
       " 0,\n",
       " 0,\n",
       " 0,\n",
       " 0,\n",
       " 0,\n",
       " 0,\n",
       " 0,\n",
       " 0,\n",
       " 0,\n",
       " 0,\n",
       " 0,\n",
       " 0,\n",
       " 0,\n",
       " 0,\n",
       " 0,\n",
       " 0,\n",
       " 0,\n",
       " 0,\n",
       " 0,\n",
       " 0,\n",
       " 0,\n",
       " 0,\n",
       " 0,\n",
       " 0,\n",
       " 0,\n",
       " 0,\n",
       " 0,\n",
       " 0,\n",
       " 0,\n",
       " 0,\n",
       " 0,\n",
       " 0,\n",
       " 0,\n",
       " 0,\n",
       " 0,\n",
       " 0,\n",
       " 0,\n",
       " 0,\n",
       " 0,\n",
       " 0,\n",
       " 0,\n",
       " 0,\n",
       " 0]"
      ]
     },
     "execution_count": 9,
     "metadata": {},
     "output_type": "execute_result"
    }
   ],
   "source": [
    "df.isnull().sum().tolist()"
   ]
  },
  {
   "cell_type": "markdown",
   "metadata": {},
   "source": [
    "# 2.1 KNN regressor"
   ]
  },
  {
   "cell_type": "markdown",
   "metadata": {},
   "source": [
    "# 2.1.1 KNN regressor"
   ]
  },
  {
   "cell_type": "code",
   "execution_count": 10,
   "metadata": {},
   "outputs": [],
   "source": [
    "#%matplotlib inline\n",
    "#from pandas.plotting import scatter_matrix\n",
    "\n",
    "X = df.drop('BUZZ',axis = 1).astype('int')\n",
    "y = df['BUZZ'].astype('int')\n",
    "\n",
    "#attributes = df.columns[:77]\n",
    "#scatter_matrix(X[attributes], figsize = (15,15), c = y, alpha = 0.8, marker = 'O')"
   ]
  },
  {
   "cell_type": "code",
   "execution_count": 11,
   "metadata": {},
   "outputs": [
    {
     "data": {
      "text/plain": [
       "(3000, 77)"
      ]
     },
     "execution_count": 11,
     "metadata": {},
     "output_type": "execute_result"
    }
   ],
   "source": [
    "X.shape"
   ]
  },
  {
   "cell_type": "code",
   "execution_count": 12,
   "metadata": {},
   "outputs": [
    {
     "data": {
      "text/html": [
       "<div>\n",
       "<style scoped>\n",
       "    .dataframe tbody tr th:only-of-type {\n",
       "        vertical-align: middle;\n",
       "    }\n",
       "\n",
       "    .dataframe tbody tr th {\n",
       "        vertical-align: top;\n",
       "    }\n",
       "\n",
       "    .dataframe thead th {\n",
       "        text-align: right;\n",
       "    }\n",
       "</style>\n",
       "<table border=\"1\" class=\"dataframe\">\n",
       "  <thead>\n",
       "    <tr style=\"text-align: right;\">\n",
       "      <th></th>\n",
       "      <th>NCD_0</th>\n",
       "      <th>NCD_1</th>\n",
       "      <th>NCD_2</th>\n",
       "      <th>NCD_3</th>\n",
       "      <th>NCD_4</th>\n",
       "      <th>NCD_5</th>\n",
       "      <th>NCD_6</th>\n",
       "      <th>AI_0</th>\n",
       "      <th>AI_1</th>\n",
       "      <th>AI_2</th>\n",
       "      <th>...</th>\n",
       "      <th>ADL_4</th>\n",
       "      <th>ADL_5</th>\n",
       "      <th>ADL_6</th>\n",
       "      <th>NAD_0</th>\n",
       "      <th>NAD_1</th>\n",
       "      <th>NAD_2</th>\n",
       "      <th>NAD_3</th>\n",
       "      <th>NAD_4</th>\n",
       "      <th>NAD_5</th>\n",
       "      <th>NAD_6</th>\n",
       "    </tr>\n",
       "  </thead>\n",
       "  <tbody>\n",
       "    <tr>\n",
       "      <th>0</th>\n",
       "      <td>0</td>\n",
       "      <td>2</td>\n",
       "      <td>0</td>\n",
       "      <td>0</td>\n",
       "      <td>1</td>\n",
       "      <td>1</td>\n",
       "      <td>1</td>\n",
       "      <td>0</td>\n",
       "      <td>1</td>\n",
       "      <td>0</td>\n",
       "      <td>...</td>\n",
       "      <td>1</td>\n",
       "      <td>1</td>\n",
       "      <td>1</td>\n",
       "      <td>0</td>\n",
       "      <td>2</td>\n",
       "      <td>0</td>\n",
       "      <td>0</td>\n",
       "      <td>1</td>\n",
       "      <td>1</td>\n",
       "      <td>1</td>\n",
       "    </tr>\n",
       "    <tr>\n",
       "      <th>1</th>\n",
       "      <td>2</td>\n",
       "      <td>1</td>\n",
       "      <td>0</td>\n",
       "      <td>0</td>\n",
       "      <td>0</td>\n",
       "      <td>0</td>\n",
       "      <td>4</td>\n",
       "      <td>2</td>\n",
       "      <td>1</td>\n",
       "      <td>0</td>\n",
       "      <td>...</td>\n",
       "      <td>0</td>\n",
       "      <td>0</td>\n",
       "      <td>1</td>\n",
       "      <td>2</td>\n",
       "      <td>1</td>\n",
       "      <td>0</td>\n",
       "      <td>0</td>\n",
       "      <td>0</td>\n",
       "      <td>0</td>\n",
       "      <td>4</td>\n",
       "    </tr>\n",
       "    <tr>\n",
       "      <th>2</th>\n",
       "      <td>1</td>\n",
       "      <td>0</td>\n",
       "      <td>0</td>\n",
       "      <td>0</td>\n",
       "      <td>0</td>\n",
       "      <td>4</td>\n",
       "      <td>1</td>\n",
       "      <td>1</td>\n",
       "      <td>0</td>\n",
       "      <td>0</td>\n",
       "      <td>...</td>\n",
       "      <td>0</td>\n",
       "      <td>1</td>\n",
       "      <td>1</td>\n",
       "      <td>1</td>\n",
       "      <td>0</td>\n",
       "      <td>0</td>\n",
       "      <td>0</td>\n",
       "      <td>0</td>\n",
       "      <td>4</td>\n",
       "      <td>1</td>\n",
       "    </tr>\n",
       "    <tr>\n",
       "      <th>3</th>\n",
       "      <td>1</td>\n",
       "      <td>0</td>\n",
       "      <td>0</td>\n",
       "      <td>1</td>\n",
       "      <td>0</td>\n",
       "      <td>0</td>\n",
       "      <td>1</td>\n",
       "      <td>1</td>\n",
       "      <td>0</td>\n",
       "      <td>0</td>\n",
       "      <td>...</td>\n",
       "      <td>0</td>\n",
       "      <td>0</td>\n",
       "      <td>1</td>\n",
       "      <td>1</td>\n",
       "      <td>0</td>\n",
       "      <td>0</td>\n",
       "      <td>1</td>\n",
       "      <td>0</td>\n",
       "      <td>0</td>\n",
       "      <td>1</td>\n",
       "    </tr>\n",
       "    <tr>\n",
       "      <th>4</th>\n",
       "      <td>0</td>\n",
       "      <td>1</td>\n",
       "      <td>0</td>\n",
       "      <td>0</td>\n",
       "      <td>1</td>\n",
       "      <td>2</td>\n",
       "      <td>3</td>\n",
       "      <td>0</td>\n",
       "      <td>1</td>\n",
       "      <td>0</td>\n",
       "      <td>...</td>\n",
       "      <td>1</td>\n",
       "      <td>1</td>\n",
       "      <td>1</td>\n",
       "      <td>0</td>\n",
       "      <td>1</td>\n",
       "      <td>0</td>\n",
       "      <td>0</td>\n",
       "      <td>1</td>\n",
       "      <td>2</td>\n",
       "      <td>3</td>\n",
       "    </tr>\n",
       "  </tbody>\n",
       "</table>\n",
       "<p>5 rows × 77 columns</p>\n",
       "</div>"
      ],
      "text/plain": [
       "   NCD_0  NCD_1  NCD_2  NCD_3  NCD_4  NCD_5  NCD_6  AI_0  AI_1  AI_2  ...    \\\n",
       "0      0      2      0      0      1      1      1     0     1     0  ...     \n",
       "1      2      1      0      0      0      0      4     2     1     0  ...     \n",
       "2      1      0      0      0      0      4      1     1     0     0  ...     \n",
       "3      1      0      0      1      0      0      1     1     0     0  ...     \n",
       "4      0      1      0      0      1      2      3     0     1     0  ...     \n",
       "\n",
       "   ADL_4  ADL_5  ADL_6  NAD_0  NAD_1  NAD_2  NAD_3  NAD_4  NAD_5  NAD_6  \n",
       "0      1      1      1      0      2      0      0      1      1      1  \n",
       "1      0      0      1      2      1      0      0      0      0      4  \n",
       "2      0      1      1      1      0      0      0      0      4      1  \n",
       "3      0      0      1      1      0      0      1      0      0      1  \n",
       "4      1      1      1      0      1      0      0      1      2      3  \n",
       "\n",
       "[5 rows x 77 columns]"
      ]
     },
     "execution_count": 12,
     "metadata": {},
     "output_type": "execute_result"
    }
   ],
   "source": [
    "X.head()"
   ]
  },
  {
   "cell_type": "code",
   "execution_count": 13,
   "metadata": {},
   "outputs": [],
   "source": [
    "from sklearn.neighbors import KNeighborsRegressor\n",
    "from sklearn.preprocessing import MinMaxScaler\n",
    "from sklearn.model_selection import train_test_split\n",
    "from sklearn.pipeline import Pipeline\n",
    "\n",
    "X_train_org, X_test_org, y_train, y_test = train_test_split(X,y, shuffle=True, test_size = 0.1,random_state = 0)\n",
    "\n",
    "scaler = MinMaxScaler()\n",
    "X_train = scaler.fit_transform(X_train_org)\n",
    "X_test = scaler.transform(X_test_org)"
   ]
  },
  {
   "cell_type": "code",
   "execution_count": 14,
   "metadata": {},
   "outputs": [
    {
     "data": {
      "text/plain": [
       "Text(0,0.5,'MSE')"
      ]
     },
     "execution_count": 14,
     "metadata": {},
     "output_type": "execute_result"
    },
    {
     "data": {
      "image/png": "[encoded data removed]",
      "text/plain": [
       "<Figure size 432x288 with 1 Axes>"
      ]
     },
     "metadata": {},
     "output_type": "display_data"
    }
   ],
   "source": [
    "%matplotlib inline\n",
    "train_score_array = []\n",
    "test_score_array = []\n",
    "\n",
    "for k in range(1,10):\n",
    "    knn_reg = KNeighborsRegressor(k)\n",
    "    knn_reg.fit(X_train, y_train)\n",
    "    train_score_array.append(knn_reg.score(X_train, y_train))\n",
    "    test_score_array.append(knn_reg.score(X_test, y_test))\n",
    "\n",
    "x_axis = range(1,10)\n",
    "plt.plot(x_axis, train_score_array, c = 'g', label = 'Train Score')\n",
    "plt.plot(x_axis, test_score_array, c = 'b', label = 'Test Score')\n",
    "plt.legend()\n",
    "plt.xlabel('k')\n",
    "plt.ylabel('MSE')"
   ]
  },
  {
   "cell_type": "markdown",
   "metadata": {},
   "source": [
    "use n = 5 here"
   ]
  },
  {
   "cell_type": "code",
   "execution_count": 15,
   "metadata": {},
   "outputs": [],
   "source": [
    "pipe_knn = Pipeline([('scaler', MinMaxScaler()), ('knn', KNeighborsRegressor(5))])"
   ]
  },
  {
   "cell_type": "code",
   "execution_count": 16,
   "metadata": {},
   "outputs": [
    {
     "data": {
      "text/plain": [
       "Pipeline(memory=None,\n",
       "     steps=[('scaler', MinMaxScaler(copy=True, feature_range=(0, 1))), ('knn', KNeighborsRegressor(algorithm='auto', leaf_size=30, metric='minkowski',\n",
       "          metric_params=None, n_jobs=1, n_neighbors=5, p=2,\n",
       "          weights='uniform'))])"
      ]
     },
     "execution_count": 16,
     "metadata": {},
     "output_type": "execute_result"
    }
   ],
   "source": [
    "pipe_knn.fit(X_train, y_train)"
   ]
  },
  {
   "cell_type": "code",
   "execution_count": 17,
   "metadata": {},
   "outputs": [
    {
     "name": "stdout",
     "output_type": "stream",
     "text": [
      "Train score: 0.8926\n",
      "Test score: 0.8327\n"
     ]
    }
   ],
   "source": [
    "print(\"Train score: {:.4f}\".format(pipe_knn.score(X_train, y_train)))\n",
    "print(\"Test score: {:.4f}\".format(pipe_knn.score(X_test, y_test)))"
   ]
  },
  {
   "cell_type": "markdown",
   "metadata": {},
   "source": [
    "# 2.1.2 cross validation on knn reg"
   ]
  },
  {
   "cell_type": "markdown",
   "metadata": {},
   "source": [
    "cv score on train set, fold = 5"
   ]
  },
  {
   "cell_type": "code",
   "execution_count": 18,
   "metadata": {},
   "outputs": [
    {
     "name": "stdout",
     "output_type": "stream",
     "text": [
      "Cross-validation scores: [0.79484766 0.83183475 0.84937886 0.83998563 0.83930715]\n",
      "Average cross-validation score: 0.8311\n"
     ]
    }
   ],
   "source": [
    "from sklearn.model_selection import cross_val_score\n",
    "\n",
    "knn_scores = cross_val_score(KNeighborsRegressor(), X_train, y_train,cv=5)\n",
    "print(\"Cross-validation scores: {}\".format(knn_scores))\n",
    "print(\"Average cross-validation score: {:.4f}\".format(knn_scores.mean()))"
   ]
  },
  {
   "cell_type": "code",
   "execution_count": 19,
   "metadata": {},
   "outputs": [],
   "source": [
    "report_table = [['knn', 'k = 5', pipe_knn.score(X_train, y_train), pipe_knn.score(X_test, y_test), knn_scores.mean() ]]\n"
   ]
  },
  {
   "cell_type": "markdown",
   "metadata": {},
   "source": [
    "# 2.2 Linear Regression"
   ]
  },
  {
   "cell_type": "markdown",
   "metadata": {},
   "source": [
    "# 2.2.1 Linear regression using the Normal Equation"
   ]
  },
  {
   "cell_type": "code",
   "execution_count": 20,
   "metadata": {},
   "outputs": [],
   "source": [
    "from sklearn.linear_model import LinearRegression"
   ]
  },
  {
   "cell_type": "code",
   "execution_count": 21,
   "metadata": {},
   "outputs": [
    {
     "data": {
      "text/html": [
       "<div>\n",
       "<style scoped>\n",
       "    .dataframe tbody tr th:only-of-type {\n",
       "        vertical-align: middle;\n",
       "    }\n",
       "\n",
       "    .dataframe tbody tr th {\n",
       "        vertical-align: top;\n",
       "    }\n",
       "\n",
       "    .dataframe thead th {\n",
       "        text-align: right;\n",
       "    }\n",
       "</style>\n",
       "<table border=\"1\" class=\"dataframe\">\n",
       "  <thead>\n",
       "    <tr style=\"text-align: right;\">\n",
       "      <th></th>\n",
       "      <th>NCD_0</th>\n",
       "      <th>NCD_1</th>\n",
       "      <th>NCD_2</th>\n",
       "      <th>NCD_3</th>\n",
       "      <th>NCD_4</th>\n",
       "      <th>NCD_5</th>\n",
       "      <th>NCD_6</th>\n",
       "      <th>AI_0</th>\n",
       "      <th>AI_1</th>\n",
       "      <th>AI_2</th>\n",
       "      <th>...</th>\n",
       "      <th>ADL_4</th>\n",
       "      <th>ADL_5</th>\n",
       "      <th>ADL_6</th>\n",
       "      <th>NAD_0</th>\n",
       "      <th>NAD_1</th>\n",
       "      <th>NAD_2</th>\n",
       "      <th>NAD_3</th>\n",
       "      <th>NAD_4</th>\n",
       "      <th>NAD_5</th>\n",
       "      <th>NAD_6</th>\n",
       "    </tr>\n",
       "  </thead>\n",
       "  <tbody>\n",
       "    <tr>\n",
       "      <th>0</th>\n",
       "      <td>0</td>\n",
       "      <td>2</td>\n",
       "      <td>0</td>\n",
       "      <td>0</td>\n",
       "      <td>1</td>\n",
       "      <td>1</td>\n",
       "      <td>1</td>\n",
       "      <td>0</td>\n",
       "      <td>1</td>\n",
       "      <td>0</td>\n",
       "      <td>...</td>\n",
       "      <td>1</td>\n",
       "      <td>1</td>\n",
       "      <td>1</td>\n",
       "      <td>0</td>\n",
       "      <td>2</td>\n",
       "      <td>0</td>\n",
       "      <td>0</td>\n",
       "      <td>1</td>\n",
       "      <td>1</td>\n",
       "      <td>1</td>\n",
       "    </tr>\n",
       "    <tr>\n",
       "      <th>1</th>\n",
       "      <td>2</td>\n",
       "      <td>1</td>\n",
       "      <td>0</td>\n",
       "      <td>0</td>\n",
       "      <td>0</td>\n",
       "      <td>0</td>\n",
       "      <td>4</td>\n",
       "      <td>2</td>\n",
       "      <td>1</td>\n",
       "      <td>0</td>\n",
       "      <td>...</td>\n",
       "      <td>0</td>\n",
       "      <td>0</td>\n",
       "      <td>1</td>\n",
       "      <td>2</td>\n",
       "      <td>1</td>\n",
       "      <td>0</td>\n",
       "      <td>0</td>\n",
       "      <td>0</td>\n",
       "      <td>0</td>\n",
       "      <td>4</td>\n",
       "    </tr>\n",
       "    <tr>\n",
       "      <th>2</th>\n",
       "      <td>1</td>\n",
       "      <td>0</td>\n",
       "      <td>0</td>\n",
       "      <td>0</td>\n",
       "      <td>0</td>\n",
       "      <td>4</td>\n",
       "      <td>1</td>\n",
       "      <td>1</td>\n",
       "      <td>0</td>\n",
       "      <td>0</td>\n",
       "      <td>...</td>\n",
       "      <td>0</td>\n",
       "      <td>1</td>\n",
       "      <td>1</td>\n",
       "      <td>1</td>\n",
       "      <td>0</td>\n",
       "      <td>0</td>\n",
       "      <td>0</td>\n",
       "      <td>0</td>\n",
       "      <td>4</td>\n",
       "      <td>1</td>\n",
       "    </tr>\n",
       "    <tr>\n",
       "      <th>3</th>\n",
       "      <td>1</td>\n",
       "      <td>0</td>\n",
       "      <td>0</td>\n",
       "      <td>1</td>\n",
       "      <td>0</td>\n",
       "      <td>0</td>\n",
       "      <td>1</td>\n",
       "      <td>1</td>\n",
       "      <td>0</td>\n",
       "      <td>0</td>\n",
       "      <td>...</td>\n",
       "      <td>0</td>\n",
       "      <td>0</td>\n",
       "      <td>1</td>\n",
       "      <td>1</td>\n",
       "      <td>0</td>\n",
       "      <td>0</td>\n",
       "      <td>1</td>\n",
       "      <td>0</td>\n",
       "      <td>0</td>\n",
       "      <td>1</td>\n",
       "    </tr>\n",
       "    <tr>\n",
       "      <th>4</th>\n",
       "      <td>0</td>\n",
       "      <td>1</td>\n",
       "      <td>0</td>\n",
       "      <td>0</td>\n",
       "      <td>1</td>\n",
       "      <td>2</td>\n",
       "      <td>3</td>\n",
       "      <td>0</td>\n",
       "      <td>1</td>\n",
       "      <td>0</td>\n",
       "      <td>...</td>\n",
       "      <td>1</td>\n",
       "      <td>1</td>\n",
       "      <td>1</td>\n",
       "      <td>0</td>\n",
       "      <td>1</td>\n",
       "      <td>0</td>\n",
       "      <td>0</td>\n",
       "      <td>1</td>\n",
       "      <td>2</td>\n",
       "      <td>3</td>\n",
       "    </tr>\n",
       "  </tbody>\n",
       "</table>\n",
       "<p>5 rows × 77 columns</p>\n",
       "</div>"
      ],
      "text/plain": [
       "   NCD_0  NCD_1  NCD_2  NCD_3  NCD_4  NCD_5  NCD_6  AI_0  AI_1  AI_2  ...    \\\n",
       "0      0      2      0      0      1      1      1     0     1     0  ...     \n",
       "1      2      1      0      0      0      0      4     2     1     0  ...     \n",
       "2      1      0      0      0      0      4      1     1     0     0  ...     \n",
       "3      1      0      0      1      0      0      1     1     0     0  ...     \n",
       "4      0      1      0      0      1      2      3     0     1     0  ...     \n",
       "\n",
       "   ADL_4  ADL_5  ADL_6  NAD_0  NAD_1  NAD_2  NAD_3  NAD_4  NAD_5  NAD_6  \n",
       "0      1      1      1      0      2      0      0      1      1      1  \n",
       "1      0      0      1      2      1      0      0      0      0      4  \n",
       "2      0      1      1      1      0      0      0      0      4      1  \n",
       "3      0      0      1      1      0      0      1      0      0      1  \n",
       "4      1      1      1      0      1      0      0      1      2      3  \n",
       "\n",
       "[5 rows x 77 columns]"
      ]
     },
     "execution_count": 21,
     "metadata": {},
     "output_type": "execute_result"
    }
   ],
   "source": [
    "X.head()"
   ]
  },
  {
   "cell_type": "code",
   "execution_count": 22,
   "metadata": {},
   "outputs": [],
   "source": [
    "pipe_lreg = Pipeline([('scaler', MinMaxScaler()), ('lreg', LinearRegression())])"
   ]
  },
  {
   "cell_type": "code",
   "execution_count": 23,
   "metadata": {},
   "outputs": [
    {
     "data": {
      "text/plain": [
       "Pipeline(memory=None,\n",
       "     steps=[('scaler', MinMaxScaler(copy=True, feature_range=(0, 1))), ('lreg', LinearRegression(copy_X=True, fit_intercept=True, n_jobs=1, normalize=False))])"
      ]
     },
     "execution_count": 23,
     "metadata": {},
     "output_type": "execute_result"
    }
   ],
   "source": [
    "pipe_lreg.fit(X_train, y_train)"
   ]
  },
  {
   "cell_type": "code",
   "execution_count": 24,
   "metadata": {},
   "outputs": [
    {
     "name": "stdout",
     "output_type": "stream",
     "text": [
      "Train score: 0.9021\n",
      "Test score: 0.9051\n"
     ]
    }
   ],
   "source": [
    "print(\"Train score: {:.4f}\".format(pipe_lreg.score(X_train, y_train)))\n",
    "print(\"Test score: {:.4f}\".format(pipe_lreg.score(X_test, y_test)))"
   ]
  },
  {
   "cell_type": "markdown",
   "metadata": {},
   "source": [
    "# 2.2.2 cross validation on Linear Regression"
   ]
  },
  {
   "cell_type": "markdown",
   "metadata": {},
   "source": [
    "cv score on train set, fold = 5"
   ]
  },
  {
   "cell_type": "code",
   "execution_count": 25,
   "metadata": {},
   "outputs": [
    {
     "name": "stdout",
     "output_type": "stream",
     "text": [
      "Cross-validation scores: [0.8823702  0.92689699 0.87135459 0.86478317 0.84312956]\n",
      "Average cross-validation score: 0.8777\n"
     ]
    }
   ],
   "source": [
    "lreg_scores = cross_val_score(LinearRegression(), X_train, y_train,cv=5)\n",
    "print(\"Cross-validation scores: {}\".format(lreg_scores))\n",
    "print(\"Average cross-validation score: {:.4f}\".format(lreg_scores.mean()))"
   ]
  },
  {
   "cell_type": "code",
   "execution_count": 26,
   "metadata": {},
   "outputs": [],
   "source": [
    "report_table = report_table + [['lreg', '', pipe_lreg.score(X_train, y_train), pipe_lreg.score(X_test, y_test), lreg_scores.mean()]]\n"
   ]
  },
  {
   "cell_type": "code",
   "execution_count": 27,
   "metadata": {},
   "outputs": [
    {
     "data": {
      "text/plain": [
       "Text(0.5,0,'RM')"
      ]
     },
     "execution_count": 27,
     "metadata": {},
     "output_type": "execute_result"
    },
    {
     "data": {
      "image/png": "[encoded data removed]",
      "text/plain": [
       "<Figure size 432x288 with 1 Axes>"
      ]
     },
     "metadata": {},
     "output_type": "display_data"
    }
   ],
   "source": [
    "%matplotlib inline\n",
    "\n",
    "X_train_rm = X_train[:,76].reshape(-1,1)\n",
    "pipe_lreg.fit(X_train_rm, y_train)\n",
    "y_predict = pipe_lreg.predict(X_train_rm)\n",
    "\n",
    "plt.plot(X_train_rm, y_predict, c = 'y')\n",
    "plt.scatter(X_train_rm,y_train)\n",
    "plt.xlabel('RM')"
   ]
  },
  {
   "cell_type": "markdown",
   "metadata": {},
   "source": [
    "# 2.3 Ridge"
   ]
  },
  {
   "cell_type": "code",
   "execution_count": 28,
   "metadata": {},
   "outputs": [],
   "source": [
    "from sklearn.linear_model import Ridge\n",
    "from sklearn.model_selection import GridSearchCV"
   ]
  },
  {
   "cell_type": "markdown",
   "metadata": {},
   "source": [
    "grid search with cross validation on train set"
   ]
  },
  {
   "cell_type": "code",
   "execution_count": 29,
   "metadata": {},
   "outputs": [
    {
     "data": {
      "text/plain": [
       "GridSearchCV(cv=5, error_score='raise',\n",
       "       estimator=Ridge(alpha=1.0, copy_X=True, fit_intercept=True, max_iter=None,\n",
       "   normalize=False, random_state=None, solver='auto', tol=0.001),\n",
       "       fit_params=None, iid=True, n_jobs=1,\n",
       "       param_grid={'alpha': [0.01, 0.1, 1, 10, 100]},\n",
       "       pre_dispatch='2*n_jobs', refit=True, return_train_score='warn',\n",
       "       scoring=None, verbose=0)"
      ]
     },
     "execution_count": 29,
     "metadata": {},
     "output_type": "execute_result"
    }
   ],
   "source": [
    "Ridge_train=Ridge()\n",
    "ridgeparam_train={\"alpha\":[0.01,0.1,1,10,100]}\n",
    "\n",
    "grid_ridge_train=GridSearchCV(Ridge_train, ridgeparam_train, cv=5)\n",
    "grid_ridge_train.fit(X_train, y_train)"
   ]
  },
  {
   "cell_type": "code",
   "execution_count": 30,
   "metadata": {},
   "outputs": [
    {
     "name": "stdout",
     "output_type": "stream",
     "text": [
      "Best alpha: {'alpha': 0.1}\n",
      "Best cross-validation score: 0.8835\n",
      "Best estimator:\n",
      "Ridge(alpha=0.1, copy_X=True, fit_intercept=True, max_iter=None,\n",
      "   normalize=False, random_state=None, solver='auto', tol=0.001)\n"
     ]
    }
   ],
   "source": [
    "print(\"Best alpha: {}\".format(grid_ridge_train.best_params_))\n",
    "print(\"Best cross-validation score: {:.4f}\".format(grid_ridge_train.best_score_))\n",
    "print(\"Best estimator:\\n{}\".format(grid_ridge_train.best_estimator_))"
   ]
  },
  {
   "cell_type": "markdown",
   "metadata": {},
   "source": [
    "convert to DataFrame"
   ]
  },
  {
   "cell_type": "code",
   "execution_count": 31,
   "metadata": {},
   "outputs": [
    {
     "data": {
      "text/html": [
       "<div>\n",
       "<style scoped>\n",
       "    .dataframe tbody tr th:only-of-type {\n",
       "        vertical-align: middle;\n",
       "    }\n",
       "\n",
       "    .dataframe tbody tr th {\n",
       "        vertical-align: top;\n",
       "    }\n",
       "\n",
       "    .dataframe thead th {\n",
       "        text-align: right;\n",
       "    }\n",
       "</style>\n",
       "<table border=\"1\" class=\"dataframe\">\n",
       "  <thead>\n",
       "    <tr style=\"text-align: right;\">\n",
       "      <th></th>\n",
       "      <th>mean_fit_time</th>\n",
       "      <th>std_fit_time</th>\n",
       "      <th>mean_score_time</th>\n",
       "      <th>std_score_time</th>\n",
       "      <th>param_alpha</th>\n",
       "      <th>params</th>\n",
       "      <th>split0_test_score</th>\n",
       "      <th>split1_test_score</th>\n",
       "      <th>split2_test_score</th>\n",
       "      <th>split3_test_score</th>\n",
       "      <th>...</th>\n",
       "      <th>mean_test_score</th>\n",
       "      <th>std_test_score</th>\n",
       "      <th>rank_test_score</th>\n",
       "      <th>split0_train_score</th>\n",
       "      <th>split1_train_score</th>\n",
       "      <th>split2_train_score</th>\n",
       "      <th>split3_train_score</th>\n",
       "      <th>split4_train_score</th>\n",
       "      <th>mean_train_score</th>\n",
       "      <th>std_train_score</th>\n",
       "    </tr>\n",
       "  </thead>\n",
       "  <tbody>\n",
       "    <tr>\n",
       "      <th>0</th>\n",
       "      <td>0.003197</td>\n",
       "      <td>0.000340</td>\n",
       "      <td>0.000415</td>\n",
       "      <td>0.000042</td>\n",
       "      <td>0.01</td>\n",
       "      <td>{'alpha': 0.01}</td>\n",
       "      <td>0.883160</td>\n",
       "      <td>0.929395</td>\n",
       "      <td>0.877802</td>\n",
       "      <td>0.869056</td>\n",
       "      <td>...</td>\n",
       "      <td>0.882251</td>\n",
       "      <td>0.025854</td>\n",
       "      <td>2</td>\n",
       "      <td>0.904175</td>\n",
       "      <td>0.890060</td>\n",
       "      <td>0.904832</td>\n",
       "      <td>0.906728</td>\n",
       "      <td>0.907462</td>\n",
       "      <td>0.902651</td>\n",
       "      <td>0.006409</td>\n",
       "    </tr>\n",
       "    <tr>\n",
       "      <th>1</th>\n",
       "      <td>0.003380</td>\n",
       "      <td>0.000406</td>\n",
       "      <td>0.000417</td>\n",
       "      <td>0.000014</td>\n",
       "      <td>0.1</td>\n",
       "      <td>{'alpha': 0.1}</td>\n",
       "      <td>0.880571</td>\n",
       "      <td>0.931827</td>\n",
       "      <td>0.876821</td>\n",
       "      <td>0.871150</td>\n",
       "      <td>...</td>\n",
       "      <td>0.883514</td>\n",
       "      <td>0.025428</td>\n",
       "      <td>1</td>\n",
       "      <td>0.901940</td>\n",
       "      <td>0.886839</td>\n",
       "      <td>0.901983</td>\n",
       "      <td>0.903670</td>\n",
       "      <td>0.904314</td>\n",
       "      <td>0.899749</td>\n",
       "      <td>0.006522</td>\n",
       "    </tr>\n",
       "    <tr>\n",
       "      <th>2</th>\n",
       "      <td>0.003366</td>\n",
       "      <td>0.000267</td>\n",
       "      <td>0.000423</td>\n",
       "      <td>0.000031</td>\n",
       "      <td>1</td>\n",
       "      <td>{'alpha': 1}</td>\n",
       "      <td>0.875965</td>\n",
       "      <td>0.932555</td>\n",
       "      <td>0.872452</td>\n",
       "      <td>0.870725</td>\n",
       "      <td>...</td>\n",
       "      <td>0.881693</td>\n",
       "      <td>0.026255</td>\n",
       "      <td>3</td>\n",
       "      <td>0.897930</td>\n",
       "      <td>0.881779</td>\n",
       "      <td>0.898065</td>\n",
       "      <td>0.897908</td>\n",
       "      <td>0.899799</td>\n",
       "      <td>0.895096</td>\n",
       "      <td>0.006696</td>\n",
       "    </tr>\n",
       "    <tr>\n",
       "      <th>3</th>\n",
       "      <td>0.003148</td>\n",
       "      <td>0.000153</td>\n",
       "      <td>0.000422</td>\n",
       "      <td>0.000023</td>\n",
       "      <td>10</td>\n",
       "      <td>{'alpha': 10}</td>\n",
       "      <td>0.859945</td>\n",
       "      <td>0.941774</td>\n",
       "      <td>0.866869</td>\n",
       "      <td>0.841115</td>\n",
       "      <td>...</td>\n",
       "      <td>0.869381</td>\n",
       "      <td>0.037869</td>\n",
       "      <td>4</td>\n",
       "      <td>0.882398</td>\n",
       "      <td>0.864144</td>\n",
       "      <td>0.882753</td>\n",
       "      <td>0.881909</td>\n",
       "      <td>0.885448</td>\n",
       "      <td>0.879330</td>\n",
       "      <td>0.007692</td>\n",
       "    </tr>\n",
       "    <tr>\n",
       "      <th>4</th>\n",
       "      <td>0.003541</td>\n",
       "      <td>0.000234</td>\n",
       "      <td>0.000453</td>\n",
       "      <td>0.000018</td>\n",
       "      <td>100</td>\n",
       "      <td>{'alpha': 100}</td>\n",
       "      <td>0.779615</td>\n",
       "      <td>0.882125</td>\n",
       "      <td>0.805908</td>\n",
       "      <td>0.720207</td>\n",
       "      <td>...</td>\n",
       "      <td>0.791239</td>\n",
       "      <td>0.053255</td>\n",
       "      <td>5</td>\n",
       "      <td>0.798067</td>\n",
       "      <td>0.767654</td>\n",
       "      <td>0.798176</td>\n",
       "      <td>0.807921</td>\n",
       "      <td>0.809055</td>\n",
       "      <td>0.796175</td>\n",
       "      <td>0.014999</td>\n",
       "    </tr>\n",
       "  </tbody>\n",
       "</table>\n",
       "<p>5 rows × 21 columns</p>\n",
       "</div>"
      ],
      "text/plain": [
       "   mean_fit_time  std_fit_time  mean_score_time  std_score_time param_alpha  \\\n",
       "0       0.003197      0.000340         0.000415        0.000042        0.01   \n",
       "1       0.003380      0.000406         0.000417        0.000014         0.1   \n",
       "2       0.003366      0.000267         0.000423        0.000031           1   \n",
       "3       0.003148      0.000153         0.000422        0.000023          10   \n",
       "4       0.003541      0.000234         0.000453        0.000018         100   \n",
       "\n",
       "            params  split0_test_score  split1_test_score  split2_test_score  \\\n",
       "0  {'alpha': 0.01}           0.883160           0.929395           0.877802   \n",
       "1   {'alpha': 0.1}           0.880571           0.931827           0.876821   \n",
       "2     {'alpha': 1}           0.875965           0.932555           0.872452   \n",
       "3    {'alpha': 10}           0.859945           0.941774           0.866869   \n",
       "4   {'alpha': 100}           0.779615           0.882125           0.805908   \n",
       "\n",
       "   split3_test_score       ...         mean_test_score  std_test_score  \\\n",
       "0           0.869056       ...                0.882251        0.025854   \n",
       "1           0.871150       ...                0.883514        0.025428   \n",
       "2           0.870725       ...                0.881693        0.026255   \n",
       "3           0.841115       ...                0.869381        0.037869   \n",
       "4           0.720207       ...                0.791239        0.053255   \n",
       "\n",
       "   rank_test_score  split0_train_score  split1_train_score  \\\n",
       "0                2            0.904175            0.890060   \n",
       "1                1            0.901940            0.886839   \n",
       "2                3            0.897930            0.881779   \n",
       "3                4            0.882398            0.864144   \n",
       "4                5            0.798067            0.767654   \n",
       "\n",
       "   split2_train_score  split3_train_score  split4_train_score  \\\n",
       "0            0.904832            0.906728            0.907462   \n",
       "1            0.901983            0.903670            0.904314   \n",
       "2            0.898065            0.897908            0.899799   \n",
       "3            0.882753            0.881909            0.885448   \n",
       "4            0.798176            0.807921            0.809055   \n",
       "\n",
       "   mean_train_score  std_train_score  \n",
       "0          0.902651         0.006409  \n",
       "1          0.899749         0.006522  \n",
       "2          0.895096         0.006696  \n",
       "3          0.879330         0.007692  \n",
       "4          0.796175         0.014999  \n",
       "\n",
       "[5 rows x 21 columns]"
      ]
     },
     "metadata": {},
     "output_type": "display_data"
    }
   ],
   "source": [
    "results_ridge = pd.DataFrame(grid_ridge_train.cv_results_)\n",
    "display(results_ridge.head())"
   ]
  },
  {
   "cell_type": "markdown",
   "metadata": {},
   "source": [
    "average train score and test score"
   ]
  },
  {
   "cell_type": "code",
   "execution_count": 32,
   "metadata": {},
   "outputs": [
    {
     "name": "stdout",
     "output_type": "stream",
     "text": [
      "Mean train score:\n",
      "1    0.899749\n",
      "Name: mean_train_score, dtype: float64\n",
      "Mean test score:\n",
      "1    0.883514\n",
      "Name: mean_test_score, dtype: float64\n"
     ]
    }
   ],
   "source": [
    "print(\"Mean train score:\")\n",
    "print(results_ridge[results_ridge['param_alpha']==0.1]['mean_train_score'])\n",
    "print(\"Mean test score:\")\n",
    "print(results_ridge[results_ridge['param_alpha']==0.1]['mean_test_score'])"
   ]
  },
  {
   "cell_type": "code",
   "execution_count": 33,
   "metadata": {},
   "outputs": [],
   "source": [
    "%matplotlib inline\n",
    "scores = np.array(results_ridge.mean_test_score)\n",
    "\n",
    "# plot the mean cross-validation scores\n",
    "#mglearn.tools.heatmap(scores, xlabel='alpha', xticklabels=param_grid['alpha'], ylabel='C', yticklabels=param_grid['C'], cmap=\"viridis\")"
   ]
  },
  {
   "cell_type": "code",
   "execution_count": 34,
   "metadata": {},
   "outputs": [
    {
     "data": {
      "text/plain": [
       "array([0.88225089, 0.88351404, 0.88169306, 0.86938136, 0.79123927])"
      ]
     },
     "execution_count": 34,
     "metadata": {},
     "output_type": "execute_result"
    }
   ],
   "source": [
    "scores"
   ]
  },
  {
   "cell_type": "code",
   "execution_count": 35,
   "metadata": {},
   "outputs": [
    {
     "data": {
      "image/png": "[encoded data removed]",
      "text/plain": [
       "<Figure size 432x288 with 1 Axes>"
      ]
     },
     "metadata": {},
     "output_type": "display_data"
    }
   ],
   "source": [
    "alpha = [0.01,0.1,1,10,100]\n",
    "plt.plot(alpha,results_ridge['mean_train_score'],label='train score',c='r')\n",
    "plt.plot(alpha,results_ridge['mean_test_score'],label='test score',c='y')\n",
    "plt.xscale('log')\n",
    "plt.xlabel(r'$\\alpha$')\n",
    "plt.legend()\n",
    "plt.show()"
   ]
  },
  {
   "cell_type": "code",
   "execution_count": 36,
   "metadata": {},
   "outputs": [],
   "source": [
    "report_table = report_table + [['ridge', 'alpha = 0.1', results_ridge.loc[2,'mean_train_score'], results_ridge.loc[2,'mean_test_score'], grid_ridge_train.best_score_]]\n"
   ]
  },
  {
   "cell_type": "markdown",
   "metadata": {},
   "source": [
    "# 2.4 Lasso"
   ]
  },
  {
   "cell_type": "code",
   "execution_count": 37,
   "metadata": {},
   "outputs": [],
   "source": [
    "from sklearn.linear_model import Lasso"
   ]
  },
  {
   "cell_type": "markdown",
   "metadata": {},
   "source": [
    "grid search with corss validation"
   ]
  },
  {
   "cell_type": "code",
   "execution_count": 38,
   "metadata": {},
   "outputs": [
    {
     "data": {
      "text/plain": [
       "GridSearchCV(cv=5, error_score='raise',\n",
       "       estimator=Lasso(alpha=1.0, copy_X=True, fit_intercept=True, max_iter=1000,\n",
       "   normalize=False, positive=False, precompute=False, random_state=None,\n",
       "   selection='cyclic', tol=0.0001, warm_start=False),\n",
       "       fit_params=None, iid=True, n_jobs=1,\n",
       "       param_grid={'alpha': [0.01, 0.1, 1, 10, 100]},\n",
       "       pre_dispatch='2*n_jobs', refit=True, return_train_score='warn',\n",
       "       scoring=None, verbose=0)"
      ]
     },
     "execution_count": 38,
     "metadata": {},
     "output_type": "execute_result"
    }
   ],
   "source": [
    "Lasso_train=Lasso()\n",
    "lassoparam_train={\"alpha\":[0.01,0.1,1,10,100]}\n",
    "\n",
    "grid_lasso_train=GridSearchCV(Lasso_train, lassoparam_train, cv=5)\n",
    "grid_lasso_train.fit(X_train, y_train)"
   ]
  },
  {
   "cell_type": "code",
   "execution_count": 39,
   "metadata": {},
   "outputs": [
    {
     "name": "stdout",
     "output_type": "stream",
     "text": [
      "Best alpha: {'alpha': 0.1}\n",
      "Best cross-validation score: 0.8845\n",
      "Best estimator:\n",
      "Lasso(alpha=0.1, copy_X=True, fit_intercept=True, max_iter=1000,\n",
      "   normalize=False, positive=False, precompute=False, random_state=None,\n",
      "   selection='cyclic', tol=0.0001, warm_start=False)\n"
     ]
    }
   ],
   "source": [
    "print(\"Best alpha: {}\".format(grid_lasso_train.best_params_))\n",
    "print(\"Best cross-validation score: {:.4f}\".format(grid_lasso_train.best_score_))\n",
    "print(\"Best estimator:\\n{}\".format(grid_lasso_train.best_estimator_))"
   ]
  },
  {
   "cell_type": "markdown",
   "metadata": {},
   "source": [
    "convert to DataFrame"
   ]
  },
  {
   "cell_type": "code",
   "execution_count": 40,
   "metadata": {},
   "outputs": [
    {
     "data": {
      "text/html": [
       "<div>\n",
       "<style scoped>\n",
       "    .dataframe tbody tr th:only-of-type {\n",
       "        vertical-align: middle;\n",
       "    }\n",
       "\n",
       "    .dataframe tbody tr th {\n",
       "        vertical-align: top;\n",
       "    }\n",
       "\n",
       "    .dataframe thead th {\n",
       "        text-align: right;\n",
       "    }\n",
       "</style>\n",
       "<table border=\"1\" class=\"dataframe\">\n",
       "  <thead>\n",
       "    <tr style=\"text-align: right;\">\n",
       "      <th></th>\n",
       "      <th>mean_fit_time</th>\n",
       "      <th>std_fit_time</th>\n",
       "      <th>mean_score_time</th>\n",
       "      <th>std_score_time</th>\n",
       "      <th>param_alpha</th>\n",
       "      <th>params</th>\n",
       "      <th>split0_test_score</th>\n",
       "      <th>split1_test_score</th>\n",
       "      <th>split2_test_score</th>\n",
       "      <th>split3_test_score</th>\n",
       "      <th>...</th>\n",
       "      <th>mean_test_score</th>\n",
       "      <th>std_test_score</th>\n",
       "      <th>rank_test_score</th>\n",
       "      <th>split0_train_score</th>\n",
       "      <th>split1_train_score</th>\n",
       "      <th>split2_train_score</th>\n",
       "      <th>split3_train_score</th>\n",
       "      <th>split4_train_score</th>\n",
       "      <th>mean_train_score</th>\n",
       "      <th>std_train_score</th>\n",
       "    </tr>\n",
       "  </thead>\n",
       "  <tbody>\n",
       "    <tr>\n",
       "      <th>0</th>\n",
       "      <td>0.055269</td>\n",
       "      <td>0.003506</td>\n",
       "      <td>0.000474</td>\n",
       "      <td>0.000028</td>\n",
       "      <td>0.01</td>\n",
       "      <td>{'alpha': 0.01}</td>\n",
       "      <td>0.882417</td>\n",
       "      <td>0.929710</td>\n",
       "      <td>0.877877</td>\n",
       "      <td>0.870103</td>\n",
       "      <td>...</td>\n",
       "      <td>0.882224</td>\n",
       "      <td>0.026057</td>\n",
       "      <td>3</td>\n",
       "      <td>0.902908</td>\n",
       "      <td>0.888828</td>\n",
       "      <td>0.903669</td>\n",
       "      <td>0.905808</td>\n",
       "      <td>0.906526</td>\n",
       "      <td>0.901548</td>\n",
       "      <td>0.006497</td>\n",
       "    </tr>\n",
       "    <tr>\n",
       "      <th>1</th>\n",
       "      <td>0.010107</td>\n",
       "      <td>0.003108</td>\n",
       "      <td>0.000401</td>\n",
       "      <td>0.000039</td>\n",
       "      <td>0.1</td>\n",
       "      <td>{'alpha': 0.1}</td>\n",
       "      <td>0.880614</td>\n",
       "      <td>0.930522</td>\n",
       "      <td>0.873713</td>\n",
       "      <td>0.876775</td>\n",
       "      <td>...</td>\n",
       "      <td>0.884458</td>\n",
       "      <td>0.023989</td>\n",
       "      <td>1</td>\n",
       "      <td>0.898358</td>\n",
       "      <td>0.883188</td>\n",
       "      <td>0.899044</td>\n",
       "      <td>0.898375</td>\n",
       "      <td>0.900622</td>\n",
       "      <td>0.895917</td>\n",
       "      <td>0.006418</td>\n",
       "    </tr>\n",
       "    <tr>\n",
       "      <th>2</th>\n",
       "      <td>0.007060</td>\n",
       "      <td>0.003504</td>\n",
       "      <td>0.000417</td>\n",
       "      <td>0.000037</td>\n",
       "      <td>1</td>\n",
       "      <td>{'alpha': 1}</td>\n",
       "      <td>0.879385</td>\n",
       "      <td>0.930570</td>\n",
       "      <td>0.869342</td>\n",
       "      <td>0.873171</td>\n",
       "      <td>...</td>\n",
       "      <td>0.882826</td>\n",
       "      <td>0.024553</td>\n",
       "      <td>2</td>\n",
       "      <td>0.893181</td>\n",
       "      <td>0.878551</td>\n",
       "      <td>0.894898</td>\n",
       "      <td>0.892774</td>\n",
       "      <td>0.896029</td>\n",
       "      <td>0.891086</td>\n",
       "      <td>0.006377</td>\n",
       "    </tr>\n",
       "    <tr>\n",
       "      <th>3</th>\n",
       "      <td>0.002688</td>\n",
       "      <td>0.000096</td>\n",
       "      <td>0.000346</td>\n",
       "      <td>0.000016</td>\n",
       "      <td>10</td>\n",
       "      <td>{'alpha': 10}</td>\n",
       "      <td>0.658930</td>\n",
       "      <td>0.717423</td>\n",
       "      <td>0.694401</td>\n",
       "      <td>0.665990</td>\n",
       "      <td>...</td>\n",
       "      <td>0.686481</td>\n",
       "      <td>0.021370</td>\n",
       "      <td>4</td>\n",
       "      <td>0.681794</td>\n",
       "      <td>0.662859</td>\n",
       "      <td>0.704485</td>\n",
       "      <td>0.674385</td>\n",
       "      <td>0.719085</td>\n",
       "      <td>0.688522</td>\n",
       "      <td>0.020458</td>\n",
       "    </tr>\n",
       "    <tr>\n",
       "      <th>4</th>\n",
       "      <td>0.002434</td>\n",
       "      <td>0.000128</td>\n",
       "      <td>0.000339</td>\n",
       "      <td>0.000010</td>\n",
       "      <td>100</td>\n",
       "      <td>{'alpha': 100}</td>\n",
       "      <td>-0.000002</td>\n",
       "      <td>-0.000082</td>\n",
       "      <td>-0.000063</td>\n",
       "      <td>-0.000033</td>\n",
       "      <td>...</td>\n",
       "      <td>-0.000063</td>\n",
       "      <td>0.000045</td>\n",
       "      <td>5</td>\n",
       "      <td>0.000000</td>\n",
       "      <td>0.000000</td>\n",
       "      <td>0.000000</td>\n",
       "      <td>0.000000</td>\n",
       "      <td>0.000000</td>\n",
       "      <td>0.000000</td>\n",
       "      <td>0.000000</td>\n",
       "    </tr>\n",
       "  </tbody>\n",
       "</table>\n",
       "<p>5 rows × 21 columns</p>\n",
       "</div>"
      ],
      "text/plain": [
       "   mean_fit_time  std_fit_time  mean_score_time  std_score_time param_alpha  \\\n",
       "0       0.055269      0.003506         0.000474        0.000028        0.01   \n",
       "1       0.010107      0.003108         0.000401        0.000039         0.1   \n",
       "2       0.007060      0.003504         0.000417        0.000037           1   \n",
       "3       0.002688      0.000096         0.000346        0.000016          10   \n",
       "4       0.002434      0.000128         0.000339        0.000010         100   \n",
       "\n",
       "            params  split0_test_score  split1_test_score  split2_test_score  \\\n",
       "0  {'alpha': 0.01}           0.882417           0.929710           0.877877   \n",
       "1   {'alpha': 0.1}           0.880614           0.930522           0.873713   \n",
       "2     {'alpha': 1}           0.879385           0.930570           0.869342   \n",
       "3    {'alpha': 10}           0.658930           0.717423           0.694401   \n",
       "4   {'alpha': 100}          -0.000002          -0.000082          -0.000063   \n",
       "\n",
       "   split3_test_score       ...         mean_test_score  std_test_score  \\\n",
       "0           0.870103       ...                0.882224        0.026057   \n",
       "1           0.876775       ...                0.884458        0.023989   \n",
       "2           0.873171       ...                0.882826        0.024553   \n",
       "3           0.665990       ...                0.686481        0.021370   \n",
       "4          -0.000033       ...               -0.000063        0.000045   \n",
       "\n",
       "   rank_test_score  split0_train_score  split1_train_score  \\\n",
       "0                3            0.902908            0.888828   \n",
       "1                1            0.898358            0.883188   \n",
       "2                2            0.893181            0.878551   \n",
       "3                4            0.681794            0.662859   \n",
       "4                5            0.000000            0.000000   \n",
       "\n",
       "   split2_train_score  split3_train_score  split4_train_score  \\\n",
       "0            0.903669            0.905808            0.906526   \n",
       "1            0.899044            0.898375            0.900622   \n",
       "2            0.894898            0.892774            0.896029   \n",
       "3            0.704485            0.674385            0.719085   \n",
       "4            0.000000            0.000000            0.000000   \n",
       "\n",
       "   mean_train_score  std_train_score  \n",
       "0          0.901548         0.006497  \n",
       "1          0.895917         0.006418  \n",
       "2          0.891086         0.006377  \n",
       "3          0.688522         0.020458  \n",
       "4          0.000000         0.000000  \n",
       "\n",
       "[5 rows x 21 columns]"
      ]
     },
     "metadata": {},
     "output_type": "display_data"
    }
   ],
   "source": [
    "results_lasso = pd.DataFrame(grid_lasso_train.cv_results_)\n",
    "display(results_lasso.head())"
   ]
  },
  {
   "cell_type": "markdown",
   "metadata": {},
   "source": [
    "average train score and test score"
   ]
  },
  {
   "cell_type": "code",
   "execution_count": 41,
   "metadata": {},
   "outputs": [
    {
     "name": "stdout",
     "output_type": "stream",
     "text": [
      "Mean train score:\n",
      "1    0.895917\n",
      "Name: mean_train_score, dtype: float64\n",
      "Mean test score:\n",
      "1    0.884458\n",
      "Name: mean_test_score, dtype: float64\n"
     ]
    }
   ],
   "source": [
    "print(\"Mean train score:\")\n",
    "print(results_lasso[results_lasso['param_alpha']==0.1]['mean_train_score'])\n",
    "print(\"Mean test score:\")\n",
    "print(results_lasso[results_lasso['param_alpha']==0.1]['mean_test_score'])"
   ]
  },
  {
   "cell_type": "code",
   "execution_count": 42,
   "metadata": {},
   "outputs": [],
   "source": [
    "%matplotlib inline\n",
    "scores = np.array(results_lasso.mean_test_score)"
   ]
  },
  {
   "cell_type": "code",
   "execution_count": 43,
   "metadata": {},
   "outputs": [
    {
     "data": {
      "text/plain": [
       "array([ 8.82224353e-01,  8.84457570e-01,  8.82825670e-01,  6.86480998e-01,\n",
       "       -6.32171903e-05])"
      ]
     },
     "execution_count": 43,
     "metadata": {},
     "output_type": "execute_result"
    }
   ],
   "source": [
    "scores"
   ]
  },
  {
   "cell_type": "code",
   "execution_count": 44,
   "metadata": {},
   "outputs": [
    {
     "data": {
      "image/png": "[encoded data removed]",
      "text/plain": [
       "<Figure size 432x288 with 1 Axes>"
      ]
     },
     "metadata": {},
     "output_type": "display_data"
    }
   ],
   "source": [
    "alpha = [0.01,0.1,1,10,100]\n",
    "plt.plot(alpha,results_lasso['mean_train_score'],label='train score',c='r')\n",
    "plt.plot(alpha,results_lasso['mean_test_score'],label='test score',c='y')\n",
    "plt.xscale('log')\n",
    "plt.xlabel(r'$\\alpha$')\n",
    "plt.legend()\n",
    "plt.show()"
   ]
  },
  {
   "cell_type": "code",
   "execution_count": 45,
   "metadata": {},
   "outputs": [],
   "source": [
    "report_table = report_table + [['lasso', 'alpha = 0.1', results_lasso.loc[2,'mean_train_score'], results_lasso.loc[2,'mean_test_score'], grid_lasso_train.best_score_]]"
   ]
  },
  {
   "cell_type": "markdown",
   "metadata": {},
   "source": [
    "# 2.5 Polynomial Regression"
   ]
  },
  {
   "cell_type": "code",
   "execution_count": 46,
   "metadata": {},
   "outputs": [],
   "source": [
    "from sklearn.preprocessing import PolynomialFeatures"
   ]
  },
  {
   "cell_type": "code",
   "execution_count": 47,
   "metadata": {},
   "outputs": [
    {
     "data": {
      "text/plain": [
       "array([[0.0185816 ],\n",
       "       [0.00309693],\n",
       "       [0.00247755],\n",
       "       ...,\n",
       "       [0.03344689],\n",
       "       [0.04862186],\n",
       "       [0.19665531]])"
      ]
     },
     "execution_count": 47,
     "metadata": {},
     "output_type": "execute_result"
    },
    {
     "data": {
      "image/png": "[encoded data removed]",
      "text/plain": [
       "<Figure size 432x288 with 1 Axes>"
      ]
     },
     "metadata": {},
     "output_type": "display_data"
    }
   ],
   "source": [
    "X_train_1 = X_train[:,76].reshape(-1,1)\n",
    "plt.scatter(X_train_1,y_train)\n",
    "X_train_1"
   ]
  },
  {
   "cell_type": "code",
   "execution_count": 48,
   "metadata": {},
   "outputs": [],
   "source": [
    "train_score_list = []\n",
    "test_score_list = []\n",
    "\n",
    "for n in range(1,3):\n",
    "    poly = PolynomialFeatures(n)\n",
    "    X_train_poly = poly.fit_transform(X_train)\n",
    "    X_test_poly = poly.transform(X_test)\n",
    "    pipe_lreg.fit(X_train_poly, y_train)\n",
    "    train_score_list.append(pipe_lreg.score(X_train_poly, y_train))\n",
    "    test_score_list.append(pipe_lreg.score(X_test_poly, y_test))"
   ]
  },
  {
   "cell_type": "code",
   "execution_count": 49,
   "metadata": {},
   "outputs": [
    {
     "name": "stdout",
     "output_type": "stream",
     "text": [
      "[0.9020586013464508, 0.9926447943217206]\n",
      "[0.905147662831242, -6.199600620742207e+17]\n"
     ]
    }
   ],
   "source": [
    "print(train_score_list)\n",
    "print(test_score_list)"
   ]
  },
  {
   "cell_type": "code",
   "execution_count": 50,
   "metadata": {},
   "outputs": [
    {
     "data": {
      "text/plain": [
       "Text(0,0.5,'MSE')"
      ]
     },
     "execution_count": 50,
     "metadata": {},
     "output_type": "execute_result"
    },
    {
     "data": {
      "image/png": "[encoded data removed]",
      "text/plain": [
       "<Figure size 432x288 with 1 Axes>"
      ]
     },
     "metadata": {},
     "output_type": "display_data"
    }
   ],
   "source": [
    "x_axis = range(3,5)\n",
    "plt.plot(x_axis, train_score_list, c = 'g', label = 'Train Score')\n",
    "plt.plot(x_axis, test_score_list, c = 'b', label = 'Test Score')\n",
    "plt.legend()\n",
    "plt.xlabel('n')\n",
    "plt.ylabel('MSE')"
   ]
  },
  {
   "cell_type": "code",
   "execution_count": 51,
   "metadata": {},
   "outputs": [
    {
     "data": {
      "text/plain": [
       "[<matplotlib.lines.Line2D at 0x10bc07b38>]"
      ]
     },
     "execution_count": 51,
     "metadata": {},
     "output_type": "execute_result"
    },
    {
     "data": {
      "image/png": "[encoded data removed]",
      "text/plain": [
       "<Figure size 432x288 with 1 Axes>"
      ]
     },
     "metadata": {},
     "output_type": "display_data"
    }
   ],
   "source": [
    "poly = PolynomialFeatures(4)\n",
    "X_train_poly = poly.fit_transform(X_train_1)\n",
    "pipe_lreg.fit(X_train_poly, y_train)\n",
    "\n",
    "x_axis = np.linspace(0,1,100).reshape(-1,1)\n",
    "x_poly = poly.transform(x_axis)\n",
    "y_predict = pipe_lreg.predict(x_poly)\n",
    "\n",
    "plt.scatter(X_train_1,y_train)\n",
    "plt.plot(x_axis, y_predict, c = 'y')"
   ]
  },
  {
   "cell_type": "code",
   "execution_count": 52,
   "metadata": {},
   "outputs": [],
   "source": [
    "report_table = report_table + [['poly_reg', 'n = 4', train_score_list[1],test_score_list[0],'']]"
   ]
  },
  {
   "cell_type": "markdown",
   "metadata": {},
   "source": [
    "# 2.6 Linear SVM "
   ]
  },
  {
   "cell_type": "code",
   "execution_count": 53,
   "metadata": {},
   "outputs": [
    {
     "data": {
      "text/plain": [
       "(2700, 77)"
      ]
     },
     "execution_count": 53,
     "metadata": {},
     "output_type": "execute_result"
    }
   ],
   "source": [
    "X_train.shape"
   ]
  },
  {
   "cell_type": "code",
   "execution_count": 54,
   "metadata": {},
   "outputs": [],
   "source": [
    "from sklearn.svm import LinearSVC\n",
    "import mglearn\n",
    "\n",
    "linear_svm = LinearSVC()"
   ]
  },
  {
   "cell_type": "code",
   "execution_count": 55,
   "metadata": {},
   "outputs": [],
   "source": [
    "\n",
    "linear_svm = LinearSVC().fit(X_train, y_train)"
   ]
  },
  {
   "cell_type": "code",
   "execution_count": 56,
   "metadata": {},
   "outputs": [
    {
     "name": "stdout",
     "output_type": "stream",
     "text": [
      "Coefficient shape:  (465, 77)\n",
      "Intercept shape:  (465,)\n"
     ]
    }
   ],
   "source": [
    "print(\"Coefficient shape: \", linear_svm.coef_.shape)\n",
    "print(\"Intercept shape: \", linear_svm.intercept_.shape)"
   ]
  },
  {
   "cell_type": "code",
   "execution_count": 57,
   "metadata": {},
   "outputs": [],
   "source": [
    "report_table = report_table + [['linear_svm', '', '','','']]"
   ]
  },
  {
   "cell_type": "markdown",
   "metadata": {},
   "source": [
    "# 2.7 SVM with kernel trick"
   ]
  },
  {
   "cell_type": "code",
   "execution_count": 58,
   "metadata": {},
   "outputs": [],
   "source": [
    "from sklearn.svm import SVC, LinearSVC\n",
    "from sklearn.model_selection import GridSearchCV"
   ]
  },
  {
   "cell_type": "markdown",
   "metadata": {},
   "source": [
    "grid search with cross validation "
   ]
  },
  {
   "cell_type": "code",
   "execution_count": 59,
   "metadata": {},
   "outputs": [
    {
     "data": {
      "text/plain": [
       "GridSearchCV(cv=5, error_score='raise',\n",
       "       estimator=SVC(C=1.0, cache_size=200, class_weight=None, coef0=0.0,\n",
       "  decision_function_shape='ovr', degree=3, gamma='auto', kernel='rbf',\n",
       "  max_iter=-1, probability=False, random_state=None, shrinking=True,\n",
       "  tol=0.001, verbose=False),\n",
       "       fit_params=None, iid=True, n_jobs=1,\n",
       "       param_grid={'C': [0.01, 0.1, 1, 10, 100], 'gamma': [0.01, 0.1, 1, 10, 100]},\n",
       "       pre_dispatch='2*n_jobs', refit=True, return_train_score='warn',\n",
       "       scoring=None, verbose=0)"
      ]
     },
     "execution_count": 59,
     "metadata": {},
     "output_type": "execute_result"
    }
   ],
   "source": [
    "SVC_train=SVC()\n",
    "svcparam_train={'C': [ 0.01, 0.1, 1, 10, 100],\n",
    "                  'gamma': [ 0.01, 0.1, 1, 10, 100]}\n",
    "\n",
    "grid_svc_train=GridSearchCV(SVC_train, svcparam_train, cv=5)\n",
    "grid_svc_train.fit(X_train, y_train)"
   ]
  },
  {
   "cell_type": "code",
   "execution_count": 60,
   "metadata": {},
   "outputs": [
    {
     "name": "stdout",
     "output_type": "stream",
     "text": [
      "Best alpha: {'C': 10, 'gamma': 100}\n",
      "Best cross-validation score: 0.1030\n",
      "Best estimator:\n",
      "SVC(C=10, cache_size=200, class_weight=None, coef0=0.0,\n",
      "  decision_function_shape='ovr', degree=3, gamma=100, kernel='rbf',\n",
      "  max_iter=-1, probability=False, random_state=None, shrinking=True,\n",
      "  tol=0.001, verbose=False)\n"
     ]
    }
   ],
   "source": [
    "print(\"Best alpha: {}\".format(grid_svc_train.best_params_))\n",
    "print(\"Best cross-validation score: {:.4f}\".format(grid_svc_train.best_score_))\n",
    "print(\"Best estimator:\\n{}\".format(grid_svc_train.best_estimator_))"
   ]
  },
  {
   "cell_type": "markdown",
   "metadata": {},
   "source": [
    "convert to df"
   ]
  },
  {
   "cell_type": "code",
   "execution_count": 61,
   "metadata": {},
   "outputs": [
    {
     "data": {
      "text/html": [
       "<div>\n",
       "<style scoped>\n",
       "    .dataframe tbody tr th:only-of-type {\n",
       "        vertical-align: middle;\n",
       "    }\n",
       "\n",
       "    .dataframe tbody tr th {\n",
       "        vertical-align: top;\n",
       "    }\n",
       "\n",
       "    .dataframe thead th {\n",
       "        text-align: right;\n",
       "    }\n",
       "</style>\n",
       "<table border=\"1\" class=\"dataframe\">\n",
       "  <thead>\n",
       "    <tr style=\"text-align: right;\">\n",
       "      <th></th>\n",
       "      <th>mean_fit_time</th>\n",
       "      <th>std_fit_time</th>\n",
       "      <th>mean_score_time</th>\n",
       "      <th>std_score_time</th>\n",
       "      <th>param_C</th>\n",
       "      <th>param_gamma</th>\n",
       "      <th>params</th>\n",
       "      <th>split0_test_score</th>\n",
       "      <th>split1_test_score</th>\n",
       "      <th>split2_test_score</th>\n",
       "      <th>...</th>\n",
       "      <th>mean_test_score</th>\n",
       "      <th>std_test_score</th>\n",
       "      <th>rank_test_score</th>\n",
       "      <th>split0_train_score</th>\n",
       "      <th>split1_train_score</th>\n",
       "      <th>split2_train_score</th>\n",
       "      <th>split3_train_score</th>\n",
       "      <th>split4_train_score</th>\n",
       "      <th>mean_train_score</th>\n",
       "      <th>std_train_score</th>\n",
       "    </tr>\n",
       "  </thead>\n",
       "  <tbody>\n",
       "    <tr>\n",
       "      <th>0</th>\n",
       "      <td>1.117135</td>\n",
       "      <td>0.234527</td>\n",
       "      <td>0.850485</td>\n",
       "      <td>0.133536</td>\n",
       "      <td>0.01</td>\n",
       "      <td>0.01</td>\n",
       "      <td>{'C': 0.01, 'gamma': 0.01}</td>\n",
       "      <td>0.046875</td>\n",
       "      <td>0.067979</td>\n",
       "      <td>0.077393</td>\n",
       "      <td>...</td>\n",
       "      <td>0.070741</td>\n",
       "      <td>0.018447</td>\n",
       "      <td>20</td>\n",
       "      <td>0.08137</td>\n",
       "      <td>0.071462</td>\n",
       "      <td>0.069262</td>\n",
       "      <td>0.067371</td>\n",
       "      <td>0.066205</td>\n",
       "      <td>0.071134</td>\n",
       "      <td>0.005419</td>\n",
       "    </tr>\n",
       "    <tr>\n",
       "      <th>1</th>\n",
       "      <td>1.233880</td>\n",
       "      <td>0.271431</td>\n",
       "      <td>0.837617</td>\n",
       "      <td>0.179692</td>\n",
       "      <td>0.01</td>\n",
       "      <td>0.1</td>\n",
       "      <td>{'C': 0.01, 'gamma': 0.1}</td>\n",
       "      <td>0.046875</td>\n",
       "      <td>0.067979</td>\n",
       "      <td>0.077393</td>\n",
       "      <td>...</td>\n",
       "      <td>0.070741</td>\n",
       "      <td>0.018447</td>\n",
       "      <td>20</td>\n",
       "      <td>0.08137</td>\n",
       "      <td>0.071462</td>\n",
       "      <td>0.069262</td>\n",
       "      <td>0.067371</td>\n",
       "      <td>0.066205</td>\n",
       "      <td>0.071134</td>\n",
       "      <td>0.005419</td>\n",
       "    </tr>\n",
       "    <tr>\n",
       "      <th>2</th>\n",
       "      <td>1.553703</td>\n",
       "      <td>0.343043</td>\n",
       "      <td>0.851111</td>\n",
       "      <td>0.187310</td>\n",
       "      <td>0.01</td>\n",
       "      <td>1</td>\n",
       "      <td>{'C': 0.01, 'gamma': 1}</td>\n",
       "      <td>0.046875</td>\n",
       "      <td>0.067979</td>\n",
       "      <td>0.077393</td>\n",
       "      <td>...</td>\n",
       "      <td>0.070741</td>\n",
       "      <td>0.018447</td>\n",
       "      <td>20</td>\n",
       "      <td>0.08137</td>\n",
       "      <td>0.071462</td>\n",
       "      <td>0.069262</td>\n",
       "      <td>0.067371</td>\n",
       "      <td>0.066205</td>\n",
       "      <td>0.071134</td>\n",
       "      <td>0.005419</td>\n",
       "    </tr>\n",
       "    <tr>\n",
       "      <th>3</th>\n",
       "      <td>1.821421</td>\n",
       "      <td>0.389169</td>\n",
       "      <td>0.840351</td>\n",
       "      <td>0.178342</td>\n",
       "      <td>0.01</td>\n",
       "      <td>10</td>\n",
       "      <td>{'C': 0.01, 'gamma': 10}</td>\n",
       "      <td>0.046875</td>\n",
       "      <td>0.067979</td>\n",
       "      <td>0.077393</td>\n",
       "      <td>...</td>\n",
       "      <td>0.070741</td>\n",
       "      <td>0.018447</td>\n",
       "      <td>20</td>\n",
       "      <td>0.08137</td>\n",
       "      <td>0.071462</td>\n",
       "      <td>0.069262</td>\n",
       "      <td>0.067371</td>\n",
       "      <td>0.066205</td>\n",
       "      <td>0.071134</td>\n",
       "      <td>0.005419</td>\n",
       "    </tr>\n",
       "    <tr>\n",
       "      <th>4</th>\n",
       "      <td>2.001148</td>\n",
       "      <td>0.415160</td>\n",
       "      <td>1.160027</td>\n",
       "      <td>0.217573</td>\n",
       "      <td>0.01</td>\n",
       "      <td>100</td>\n",
       "      <td>{'C': 0.01, 'gamma': 100}</td>\n",
       "      <td>0.046875</td>\n",
       "      <td>0.067979</td>\n",
       "      <td>0.077393</td>\n",
       "      <td>...</td>\n",
       "      <td>0.070741</td>\n",
       "      <td>0.018447</td>\n",
       "      <td>20</td>\n",
       "      <td>0.08137</td>\n",
       "      <td>0.071462</td>\n",
       "      <td>0.069262</td>\n",
       "      <td>0.067371</td>\n",
       "      <td>0.066205</td>\n",
       "      <td>0.071134</td>\n",
       "      <td>0.005419</td>\n",
       "    </tr>\n",
       "  </tbody>\n",
       "</table>\n",
       "<p>5 rows × 22 columns</p>\n",
       "</div>"
      ],
      "text/plain": [
       "   mean_fit_time  std_fit_time  mean_score_time  std_score_time param_C  \\\n",
       "0       1.117135      0.234527         0.850485        0.133536    0.01   \n",
       "1       1.233880      0.271431         0.837617        0.179692    0.01   \n",
       "2       1.553703      0.343043         0.851111        0.187310    0.01   \n",
       "3       1.821421      0.389169         0.840351        0.178342    0.01   \n",
       "4       2.001148      0.415160         1.160027        0.217573    0.01   \n",
       "\n",
       "  param_gamma                      params  split0_test_score  \\\n",
       "0        0.01  {'C': 0.01, 'gamma': 0.01}           0.046875   \n",
       "1         0.1   {'C': 0.01, 'gamma': 0.1}           0.046875   \n",
       "2           1     {'C': 0.01, 'gamma': 1}           0.046875   \n",
       "3          10    {'C': 0.01, 'gamma': 10}           0.046875   \n",
       "4         100   {'C': 0.01, 'gamma': 100}           0.046875   \n",
       "\n",
       "   split1_test_score  split2_test_score       ...         mean_test_score  \\\n",
       "0           0.067979           0.077393       ...                0.070741   \n",
       "1           0.067979           0.077393       ...                0.070741   \n",
       "2           0.067979           0.077393       ...                0.070741   \n",
       "3           0.067979           0.077393       ...                0.070741   \n",
       "4           0.067979           0.077393       ...                0.070741   \n",
       "\n",
       "   std_test_score  rank_test_score  split0_train_score  split1_train_score  \\\n",
       "0        0.018447               20             0.08137            0.071462   \n",
       "1        0.018447               20             0.08137            0.071462   \n",
       "2        0.018447               20             0.08137            0.071462   \n",
       "3        0.018447               20             0.08137            0.071462   \n",
       "4        0.018447               20             0.08137            0.071462   \n",
       "\n",
       "   split2_train_score  split3_train_score  split4_train_score  \\\n",
       "0            0.069262            0.067371            0.066205   \n",
       "1            0.069262            0.067371            0.066205   \n",
       "2            0.069262            0.067371            0.066205   \n",
       "3            0.069262            0.067371            0.066205   \n",
       "4            0.069262            0.067371            0.066205   \n",
       "\n",
       "   mean_train_score  std_train_score  \n",
       "0          0.071134         0.005419  \n",
       "1          0.071134         0.005419  \n",
       "2          0.071134         0.005419  \n",
       "3          0.071134         0.005419  \n",
       "4          0.071134         0.005419  \n",
       "\n",
       "[5 rows x 22 columns]"
      ]
     },
     "metadata": {},
     "output_type": "display_data"
    }
   ],
   "source": [
    "results_svc = pd.DataFrame(grid_svc_train.cv_results_)\n",
    "display(results_svc.head())"
   ]
  },
  {
   "cell_type": "code",
   "execution_count": 62,
   "metadata": {},
   "outputs": [],
   "source": [
    "report_table = report_table + [['svm_kernel', 'C = 10, gamma = 100', '','',grid_svc_train.best_score_]]"
   ]
  },
  {
   "cell_type": "code",
   "execution_count": 63,
   "metadata": {},
   "outputs": [
    {
     "data": {
      "text/plain": [
       "<matplotlib.collections.PolyCollection at 0x10d521a90>"
      ]
     },
     "execution_count": 63,
     "metadata": {},
     "output_type": "execute_result"
    },
    {
     "data": {
      "image/png": "[encoded data removed]",
      "text/plain": [
       "<Figure size 432x288 with 1 Axes>"
      ]
     },
     "metadata": {},
     "output_type": "display_data"
    }
   ],
   "source": [
    "%matplotlib inline\n",
    "scores = np.array(results_svc.mean_test_score).reshape(5,5)\n",
    "\n",
    "mglearn.tools.heatmap(scores, xlabel='gamma', xticklabels=svcparam_train['gamma'], ylabel='C', yticklabels=svcparam_train['C'], cmap=\"viridis\")\n"
   ]
  },
  {
   "cell_type": "code",
   "execution_count": 64,
   "metadata": {},
   "outputs": [],
   "source": [
    "report = pd.DataFrame(report_table,columns = ['Model name', 'Model parameter', 'Train accuracy', 'Test accuracy', 'cross viladation score'])\n"
   ]
  },
  {
   "cell_type": "code",
   "execution_count": 65,
   "metadata": {},
   "outputs": [],
   "source": [
    "report.index = report['Model name']"
   ]
  },
  {
   "cell_type": "code",
   "execution_count": 66,
   "metadata": {},
   "outputs": [
    {
     "data": {
      "text/html": [
       "<div>\n",
       "<style scoped>\n",
       "    .dataframe tbody tr th:only-of-type {\n",
       "        vertical-align: middle;\n",
       "    }\n",
       "\n",
       "    .dataframe tbody tr th {\n",
       "        vertical-align: top;\n",
       "    }\n",
       "\n",
       "    .dataframe thead th {\n",
       "        text-align: right;\n",
       "    }\n",
       "</style>\n",
       "<table border=\"1\" class=\"dataframe\">\n",
       "  <thead>\n",
       "    <tr style=\"text-align: right;\">\n",
       "      <th></th>\n",
       "      <th>Model name</th>\n",
       "      <th>Model parameter</th>\n",
       "      <th>Train accuracy</th>\n",
       "      <th>Test accuracy</th>\n",
       "      <th>cross viladation score</th>\n",
       "    </tr>\n",
       "    <tr>\n",
       "      <th>Model name</th>\n",
       "      <th></th>\n",
       "      <th></th>\n",
       "      <th></th>\n",
       "      <th></th>\n",
       "      <th></th>\n",
       "    </tr>\n",
       "  </thead>\n",
       "  <tbody>\n",
       "    <tr>\n",
       "      <th>knn</th>\n",
       "      <td>knn</td>\n",
       "      <td>k = 5</td>\n",
       "      <td>0.892645</td>\n",
       "      <td>0.832686</td>\n",
       "      <td>0.831071</td>\n",
       "    </tr>\n",
       "    <tr>\n",
       "      <th>lreg</th>\n",
       "      <td>lreg</td>\n",
       "      <td></td>\n",
       "      <td>0.902059</td>\n",
       "      <td>0.905148</td>\n",
       "      <td>0.877707</td>\n",
       "    </tr>\n",
       "    <tr>\n",
       "      <th>ridge</th>\n",
       "      <td>ridge</td>\n",
       "      <td>alpha = 0.1</td>\n",
       "      <td>0.895096</td>\n",
       "      <td>0.881693</td>\n",
       "      <td>0.883514</td>\n",
       "    </tr>\n",
       "    <tr>\n",
       "      <th>lasso</th>\n",
       "      <td>lasso</td>\n",
       "      <td>alpha = 0.1</td>\n",
       "      <td>0.891086</td>\n",
       "      <td>0.882826</td>\n",
       "      <td>0.884458</td>\n",
       "    </tr>\n",
       "    <tr>\n",
       "      <th>poly_reg</th>\n",
       "      <td>poly_reg</td>\n",
       "      <td>n = 4</td>\n",
       "      <td>0.992645</td>\n",
       "      <td>0.905148</td>\n",
       "      <td></td>\n",
       "    </tr>\n",
       "    <tr>\n",
       "      <th>linear_svm</th>\n",
       "      <td>linear_svm</td>\n",
       "      <td></td>\n",
       "      <td></td>\n",
       "      <td></td>\n",
       "      <td></td>\n",
       "    </tr>\n",
       "    <tr>\n",
       "      <th>svm_kernel</th>\n",
       "      <td>svm_kernel</td>\n",
       "      <td>C = 10, gamma = 100</td>\n",
       "      <td></td>\n",
       "      <td></td>\n",
       "      <td>0.102963</td>\n",
       "    </tr>\n",
       "  </tbody>\n",
       "</table>\n",
       "</div>"
      ],
      "text/plain": [
       "            Model name      Model parameter Train accuracy Test accuracy  \\\n",
       "Model name                                                                 \n",
       "knn                knn                k = 5       0.892645      0.832686   \n",
       "lreg              lreg                            0.902059      0.905148   \n",
       "ridge            ridge          alpha = 0.1       0.895096      0.881693   \n",
       "lasso            lasso          alpha = 0.1       0.891086      0.882826   \n",
       "poly_reg      poly_reg                n = 4       0.992645      0.905148   \n",
       "linear_svm  linear_svm                                                     \n",
       "svm_kernel  svm_kernel  C = 10, gamma = 100                                \n",
       "\n",
       "           cross viladation score  \n",
       "Model name                         \n",
       "knn                      0.831071  \n",
       "lreg                     0.877707  \n",
       "ridge                    0.883514  \n",
       "lasso                    0.884458  \n",
       "poly_reg                           \n",
       "linear_svm                         \n",
       "svm_kernel               0.102963  "
      ]
     },
     "execution_count": 66,
     "metadata": {},
     "output_type": "execute_result"
    }
   ],
   "source": [
    "report"
   ]
  },
  {
   "cell_type": "markdown",
   "metadata": {},
   "source": [
    "# use polynomial regression on the whole dataset"
   ]
  },
  {
   "cell_type": "code",
   "execution_count": 67,
   "metadata": {},
   "outputs": [],
   "source": [
    "df = pd.read_csv('Twitter.csv',header = None,names=feature_names)"
   ]
  },
  {
   "cell_type": "code",
   "execution_count": 72,
   "metadata": {},
   "outputs": [],
   "source": [
    "X2 = df.drop('BUZZ',axis = 1).astype('int')\n",
    "y2 = df['BUZZ'].astype('int')"
   ]
  },
  {
   "cell_type": "code",
   "execution_count": 73,
   "metadata": {},
   "outputs": [],
   "source": [
    "X2_train_org, X2_test_org, y2_train, y2_test = train_test_split(X2,y2, shuffle=True, test_size = 0.1,random_state = 0)\n",
    "\n",
    "scaler = MinMaxScaler()\n",
    "X2_train = scaler.fit_transform(X2_train_org)\n",
    "X2_test = scaler.transform(X2_test_org)"
   ]
  },
  {
   "cell_type": "code",
   "execution_count": 74,
   "metadata": {},
   "outputs": [],
   "source": [
    "from sklearn.preprocessing import PolynomialFeatures"
   ]
  },
  {
   "cell_type": "code",
   "execution_count": 77,
   "metadata": {},
   "outputs": [],
   "source": [
    "train_score_list = []\n",
    "test_score_list = []\n",
    "\n",
    "for n in range(1,3):\n",
    "    poly = PolynomialFeatures(n)\n",
    "    X2_train_poly = poly.fit_transform(X2_train)\n",
    "    X2_test_poly = poly.transform(X2_test)\n",
    "    pipe_lreg.fit(X2_train_poly, y2_train)\n",
    "    train_score_list.append(pipe_lreg.score(X2_train_poly, y2_train))\n",
    "    test_score_list.append(pipe_lreg.score(X2_test_poly, y2_test))"
   ]
  },
  {
   "cell_type": "code",
   "execution_count": 78,
   "metadata": {},
   "outputs": [
    {
     "name": "stdout",
     "output_type": "stream",
     "text": [
      "[0.9794651651712012, 0.9946470700486448]\n",
      "[0.890691183808295, -114400743807.56285]\n"
     ]
    }
   ],
   "source": [
    "print(train_score_list)\n",
    "print(test_score_list)"
   ]
  }
 ],
 "metadata": {
  "kernelspec": {
   "display_name": "Python 3",
   "language": "python",
   "name": "python3"
  },
  "language_info": {
   "codemirror_mode": {
    "name": "ipython",
    "version": 3
   },
   "file_extension": ".py",
   "mimetype": "text/x-python",
   "name": "python",
   "nbconvert_exporter": "python",
   "pygments_lexer": "ipython3",
   "version": "3.6.5"
  }
 },
 "nbformat": 4,
 "nbformat_minor": 2
}
